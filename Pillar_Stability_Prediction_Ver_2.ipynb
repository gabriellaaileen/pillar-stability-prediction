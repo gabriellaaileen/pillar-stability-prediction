{
  "nbformat": 4,
  "nbformat_minor": 0,
  "metadata": {
    "colab": {
      "name": "Pillar Stability Prediction_Ver 2.ipynb",
      "provenance": [],
      "collapsed_sections": [],
      "authorship_tag": "ABX9TyOnHeQCzo7ZXo4/0le5Jiia",
      "include_colab_link": true
    },
    "kernelspec": {
      "name": "python3",
      "display_name": "Python 3"
    },
    "language_info": {
      "name": "python"
    }
  },
  "cells": [
    {
      "cell_type": "markdown",
      "metadata": {
        "id": "view-in-github",
        "colab_type": "text"
      },
      "source": [
        "<a href=\"https://colab.research.google.com/github/gabriellaaileen/pillar-stability-prediction/blob/main/Pillar_Stability_Prediction_Ver_2.ipynb\" target=\"_parent\"><img src=\"https://colab.research.google.com/assets/colab-badge.svg\" alt=\"Open In Colab\"/></a>"
      ]
    },
    {
      "cell_type": "markdown",
      "source": [
        "#**Requirements**"
      ],
      "metadata": {
        "id": "zOwTXp6JvuNG"
      }
    },
    {
      "cell_type": "code",
      "execution_count": 1,
      "metadata": {
        "id": "40Vwm6YLQVyo"
      },
      "outputs": [],
      "source": [
        "import re\n",
        "import string\n",
        "import numpy as np\n",
        "import pandas as pd\n",
        "import matplotlib.pyplot as plt\n",
        "import seaborn as sns\n",
        "import os\n",
        "\n",
        "from tensorflow.keras.optimizers import Adam\n",
        "from tensorflow.keras.models import Sequential\n",
        "from tensorflow.keras.callbacks import EarlyStopping\n",
        "from tensorflow.keras.layers import Dense, LSTM, Embedding, Bidirectional\n",
        "from tensorflow.keras.losses import SparseCategoricalCrossentropy\n",
        "from tensorflow import nn\n",
        "\n",
        "from sklearn.preprocessing import LabelEncoder\n",
        "from sklearn.model_selection import train_test_split\n",
        "from sklearn.metrics import accuracy_score, classification_report, confusion_matrix, ConfusionMatrixDisplay"
      ]
    },
    {
      "cell_type": "code",
      "source": [
        "import tensorflow as tf"
      ],
      "metadata": {
        "id": "fWUwFrLYVn1V"
      },
      "execution_count": 2,
      "outputs": []
    },
    {
      "cell_type": "code",
      "source": [
        "!wget -P data/ https://raw.githubusercontent.com/gabriellaaileen/pillar-stability-prediction/main/\"Data gabungan 2.csv\""
      ],
      "metadata": {
        "colab": {
          "base_uri": "https://localhost:8080/"
        },
        "id": "ZJvso9XNwybh",
        "outputId": "abfe9f3f-505d-468c-b8a9-eaaf0e7353d5"
      },
      "execution_count": 3,
      "outputs": [
        {
          "output_type": "stream",
          "name": "stdout",
          "text": [
            "--2022-08-20 09:46:22--  https://raw.githubusercontent.com/gabriellaaileen/pillar-stability-prediction/main/Data%20gabungan%202.csv\n",
            "Resolving raw.githubusercontent.com (raw.githubusercontent.com)... 185.199.111.133, 185.199.110.133, 185.199.108.133, ...\n",
            "Connecting to raw.githubusercontent.com (raw.githubusercontent.com)|185.199.111.133|:443... connected.\n",
            "HTTP request sent, awaiting response... 200 OK\n",
            "Length: 10806 (11K) [text/plain]\n",
            "Saving to: ‘data/Data gabungan 2.csv’\n",
            "\n",
            "\rData gabungan 2.csv   0%[                    ]       0  --.-KB/s               \rData gabungan 2.csv 100%[===================>]  10.55K  --.-KB/s    in 0s      \n",
            "\n",
            "2022-08-20 09:46:22 (80.6 MB/s) - ‘data/Data gabungan 2.csv’ saved [10806/10806]\n",
            "\n"
          ]
        }
      ]
    },
    {
      "cell_type": "code",
      "source": [
        "df = pd.read_csv('/content/data/Data gabungan 2.csv')"
      ],
      "metadata": {
        "id": "2ON_hw__13t5"
      },
      "execution_count": 4,
      "outputs": []
    },
    {
      "cell_type": "markdown",
      "source": [
        "#**Exploratory Data Analysis**"
      ],
      "metadata": {
        "id": "JCrrhwPQ2HLK"
      }
    },
    {
      "cell_type": "code",
      "source": [
        "df.head(5)"
      ],
      "metadata": {
        "colab": {
          "base_uri": "https://localhost:8080/",
          "height": 206
        },
        "id": "JhNPeWT72K5N",
        "outputId": "f9fa55d2-6064-4685-e9b6-3ebf900c016c"
      },
      "execution_count": 5,
      "outputs": [
        {
          "output_type": "execute_result",
          "data": {
            "text/plain": [
              "   Depth    PW    BW    MH Stability\n",
              "0   76.2  4.88  6.10  1.37    Failed\n",
              "1   29.0  5.40  6.30  2.90    Failed\n",
              "2   60.0  7.00  6.00  1.82    Failed\n",
              "3   53.0  5.60  6.10  1.80    Failed\n",
              "4   21.0  6.75  5.25  3.20    Failed"
            ],
            "text/html": [
              "\n",
              "  <div id=\"df-2e196b31-9577-41fc-8cf8-f9e6e30f6162\">\n",
              "    <div class=\"colab-df-container\">\n",
              "      <div>\n",
              "<style scoped>\n",
              "    .dataframe tbody tr th:only-of-type {\n",
              "        vertical-align: middle;\n",
              "    }\n",
              "\n",
              "    .dataframe tbody tr th {\n",
              "        vertical-align: top;\n",
              "    }\n",
              "\n",
              "    .dataframe thead th {\n",
              "        text-align: right;\n",
              "    }\n",
              "</style>\n",
              "<table border=\"1\" class=\"dataframe\">\n",
              "  <thead>\n",
              "    <tr style=\"text-align: right;\">\n",
              "      <th></th>\n",
              "      <th>Depth</th>\n",
              "      <th>PW</th>\n",
              "      <th>BW</th>\n",
              "      <th>MH</th>\n",
              "      <th>Stability</th>\n",
              "    </tr>\n",
              "  </thead>\n",
              "  <tbody>\n",
              "    <tr>\n",
              "      <th>0</th>\n",
              "      <td>76.2</td>\n",
              "      <td>4.88</td>\n",
              "      <td>6.10</td>\n",
              "      <td>1.37</td>\n",
              "      <td>Failed</td>\n",
              "    </tr>\n",
              "    <tr>\n",
              "      <th>1</th>\n",
              "      <td>29.0</td>\n",
              "      <td>5.40</td>\n",
              "      <td>6.30</td>\n",
              "      <td>2.90</td>\n",
              "      <td>Failed</td>\n",
              "    </tr>\n",
              "    <tr>\n",
              "      <th>2</th>\n",
              "      <td>60.0</td>\n",
              "      <td>7.00</td>\n",
              "      <td>6.00</td>\n",
              "      <td>1.82</td>\n",
              "      <td>Failed</td>\n",
              "    </tr>\n",
              "    <tr>\n",
              "      <th>3</th>\n",
              "      <td>53.0</td>\n",
              "      <td>5.60</td>\n",
              "      <td>6.10</td>\n",
              "      <td>1.80</td>\n",
              "      <td>Failed</td>\n",
              "    </tr>\n",
              "    <tr>\n",
              "      <th>4</th>\n",
              "      <td>21.0</td>\n",
              "      <td>6.75</td>\n",
              "      <td>5.25</td>\n",
              "      <td>3.20</td>\n",
              "      <td>Failed</td>\n",
              "    </tr>\n",
              "  </tbody>\n",
              "</table>\n",
              "</div>\n",
              "      <button class=\"colab-df-convert\" onclick=\"convertToInteractive('df-2e196b31-9577-41fc-8cf8-f9e6e30f6162')\"\n",
              "              title=\"Convert this dataframe to an interactive table.\"\n",
              "              style=\"display:none;\">\n",
              "        \n",
              "  <svg xmlns=\"http://www.w3.org/2000/svg\" height=\"24px\"viewBox=\"0 0 24 24\"\n",
              "       width=\"24px\">\n",
              "    <path d=\"M0 0h24v24H0V0z\" fill=\"none\"/>\n",
              "    <path d=\"M18.56 5.44l.94 2.06.94-2.06 2.06-.94-2.06-.94-.94-2.06-.94 2.06-2.06.94zm-11 1L8.5 8.5l.94-2.06 2.06-.94-2.06-.94L8.5 2.5l-.94 2.06-2.06.94zm10 10l.94 2.06.94-2.06 2.06-.94-2.06-.94-.94-2.06-.94 2.06-2.06.94z\"/><path d=\"M17.41 7.96l-1.37-1.37c-.4-.4-.92-.59-1.43-.59-.52 0-1.04.2-1.43.59L10.3 9.45l-7.72 7.72c-.78.78-.78 2.05 0 2.83L4 21.41c.39.39.9.59 1.41.59.51 0 1.02-.2 1.41-.59l7.78-7.78 2.81-2.81c.8-.78.8-2.07 0-2.86zM5.41 20L4 18.59l7.72-7.72 1.47 1.35L5.41 20z\"/>\n",
              "  </svg>\n",
              "      </button>\n",
              "      \n",
              "  <style>\n",
              "    .colab-df-container {\n",
              "      display:flex;\n",
              "      flex-wrap:wrap;\n",
              "      gap: 12px;\n",
              "    }\n",
              "\n",
              "    .colab-df-convert {\n",
              "      background-color: #E8F0FE;\n",
              "      border: none;\n",
              "      border-radius: 50%;\n",
              "      cursor: pointer;\n",
              "      display: none;\n",
              "      fill: #1967D2;\n",
              "      height: 32px;\n",
              "      padding: 0 0 0 0;\n",
              "      width: 32px;\n",
              "    }\n",
              "\n",
              "    .colab-df-convert:hover {\n",
              "      background-color: #E2EBFA;\n",
              "      box-shadow: 0px 1px 2px rgba(60, 64, 67, 0.3), 0px 1px 3px 1px rgba(60, 64, 67, 0.15);\n",
              "      fill: #174EA6;\n",
              "    }\n",
              "\n",
              "    [theme=dark] .colab-df-convert {\n",
              "      background-color: #3B4455;\n",
              "      fill: #D2E3FC;\n",
              "    }\n",
              "\n",
              "    [theme=dark] .colab-df-convert:hover {\n",
              "      background-color: #434B5C;\n",
              "      box-shadow: 0px 1px 3px 1px rgba(0, 0, 0, 0.15);\n",
              "      filter: drop-shadow(0px 1px 2px rgba(0, 0, 0, 0.3));\n",
              "      fill: #FFFFFF;\n",
              "    }\n",
              "  </style>\n",
              "\n",
              "      <script>\n",
              "        const buttonEl =\n",
              "          document.querySelector('#df-2e196b31-9577-41fc-8cf8-f9e6e30f6162 button.colab-df-convert');\n",
              "        buttonEl.style.display =\n",
              "          google.colab.kernel.accessAllowed ? 'block' : 'none';\n",
              "\n",
              "        async function convertToInteractive(key) {\n",
              "          const element = document.querySelector('#df-2e196b31-9577-41fc-8cf8-f9e6e30f6162');\n",
              "          const dataTable =\n",
              "            await google.colab.kernel.invokeFunction('convertToInteractive',\n",
              "                                                     [key], {});\n",
              "          if (!dataTable) return;\n",
              "\n",
              "          const docLinkHtml = 'Like what you see? Visit the ' +\n",
              "            '<a target=\"_blank\" href=https://colab.research.google.com/notebooks/data_table.ipynb>data table notebook</a>'\n",
              "            + ' to learn more about interactive tables.';\n",
              "          element.innerHTML = '';\n",
              "          dataTable['output_type'] = 'display_data';\n",
              "          await google.colab.output.renderOutput(dataTable, element);\n",
              "          const docLink = document.createElement('div');\n",
              "          docLink.innerHTML = docLinkHtml;\n",
              "          element.appendChild(docLink);\n",
              "        }\n",
              "      </script>\n",
              "    </div>\n",
              "  </div>\n",
              "  "
            ]
          },
          "metadata": {},
          "execution_count": 5
        }
      ]
    },
    {
      "cell_type": "code",
      "source": [
        "df.shape"
      ],
      "metadata": {
        "colab": {
          "base_uri": "https://localhost:8080/"
        },
        "id": "nzQVwS9a2Pnm",
        "outputId": "3edc4594-9fba-4376-95c7-8a14af9b2456"
      },
      "execution_count": 6,
      "outputs": [
        {
          "output_type": "execute_result",
          "data": {
            "text/plain": [
              "(423, 5)"
            ]
          },
          "metadata": {},
          "execution_count": 6
        }
      ]
    },
    {
      "cell_type": "code",
      "source": [
        "df.info()"
      ],
      "metadata": {
        "colab": {
          "base_uri": "https://localhost:8080/"
        },
        "id": "KSjO5wv42S2h",
        "outputId": "889b7cd4-0f8c-4e17-9793-c997d3ae488d"
      },
      "execution_count": 7,
      "outputs": [
        {
          "output_type": "stream",
          "name": "stdout",
          "text": [
            "<class 'pandas.core.frame.DataFrame'>\n",
            "RangeIndex: 423 entries, 0 to 422\n",
            "Data columns (total 5 columns):\n",
            " #   Column     Non-Null Count  Dtype  \n",
            "---  ------     --------------  -----  \n",
            " 0   Depth      423 non-null    float64\n",
            " 1   PW         423 non-null    float64\n",
            " 2   BW         423 non-null    float64\n",
            " 3   MH         423 non-null    float64\n",
            " 4   Stability  423 non-null    object \n",
            "dtypes: float64(4), object(1)\n",
            "memory usage: 16.6+ KB\n"
          ]
        }
      ]
    },
    {
      "cell_type": "code",
      "source": [
        "#Menghitung presentase missing values dari masing-masing variabel\n",
        "(df.isnull().sum()/len(df)*100).to_frame('Persentase Missing Value Dataset (%)')"
      ],
      "metadata": {
        "colab": {
          "base_uri": "https://localhost:8080/",
          "height": 206
        },
        "id": "E8pCTb9L3EIA",
        "outputId": "f27a3281-05b5-48a4-bdc2-e3028513e89e"
      },
      "execution_count": 8,
      "outputs": [
        {
          "output_type": "execute_result",
          "data": {
            "text/plain": [
              "           Persentase Missing Value Dataset (%)\n",
              "Depth                                       0.0\n",
              "PW                                          0.0\n",
              "BW                                          0.0\n",
              "MH                                          0.0\n",
              "Stability                                   0.0"
            ],
            "text/html": [
              "\n",
              "  <div id=\"df-793779ba-3d7e-45e2-97ac-d2b45c15f0c8\">\n",
              "    <div class=\"colab-df-container\">\n",
              "      <div>\n",
              "<style scoped>\n",
              "    .dataframe tbody tr th:only-of-type {\n",
              "        vertical-align: middle;\n",
              "    }\n",
              "\n",
              "    .dataframe tbody tr th {\n",
              "        vertical-align: top;\n",
              "    }\n",
              "\n",
              "    .dataframe thead th {\n",
              "        text-align: right;\n",
              "    }\n",
              "</style>\n",
              "<table border=\"1\" class=\"dataframe\">\n",
              "  <thead>\n",
              "    <tr style=\"text-align: right;\">\n",
              "      <th></th>\n",
              "      <th>Persentase Missing Value Dataset (%)</th>\n",
              "    </tr>\n",
              "  </thead>\n",
              "  <tbody>\n",
              "    <tr>\n",
              "      <th>Depth</th>\n",
              "      <td>0.0</td>\n",
              "    </tr>\n",
              "    <tr>\n",
              "      <th>PW</th>\n",
              "      <td>0.0</td>\n",
              "    </tr>\n",
              "    <tr>\n",
              "      <th>BW</th>\n",
              "      <td>0.0</td>\n",
              "    </tr>\n",
              "    <tr>\n",
              "      <th>MH</th>\n",
              "      <td>0.0</td>\n",
              "    </tr>\n",
              "    <tr>\n",
              "      <th>Stability</th>\n",
              "      <td>0.0</td>\n",
              "    </tr>\n",
              "  </tbody>\n",
              "</table>\n",
              "</div>\n",
              "      <button class=\"colab-df-convert\" onclick=\"convertToInteractive('df-793779ba-3d7e-45e2-97ac-d2b45c15f0c8')\"\n",
              "              title=\"Convert this dataframe to an interactive table.\"\n",
              "              style=\"display:none;\">\n",
              "        \n",
              "  <svg xmlns=\"http://www.w3.org/2000/svg\" height=\"24px\"viewBox=\"0 0 24 24\"\n",
              "       width=\"24px\">\n",
              "    <path d=\"M0 0h24v24H0V0z\" fill=\"none\"/>\n",
              "    <path d=\"M18.56 5.44l.94 2.06.94-2.06 2.06-.94-2.06-.94-.94-2.06-.94 2.06-2.06.94zm-11 1L8.5 8.5l.94-2.06 2.06-.94-2.06-.94L8.5 2.5l-.94 2.06-2.06.94zm10 10l.94 2.06.94-2.06 2.06-.94-2.06-.94-.94-2.06-.94 2.06-2.06.94z\"/><path d=\"M17.41 7.96l-1.37-1.37c-.4-.4-.92-.59-1.43-.59-.52 0-1.04.2-1.43.59L10.3 9.45l-7.72 7.72c-.78.78-.78 2.05 0 2.83L4 21.41c.39.39.9.59 1.41.59.51 0 1.02-.2 1.41-.59l7.78-7.78 2.81-2.81c.8-.78.8-2.07 0-2.86zM5.41 20L4 18.59l7.72-7.72 1.47 1.35L5.41 20z\"/>\n",
              "  </svg>\n",
              "      </button>\n",
              "      \n",
              "  <style>\n",
              "    .colab-df-container {\n",
              "      display:flex;\n",
              "      flex-wrap:wrap;\n",
              "      gap: 12px;\n",
              "    }\n",
              "\n",
              "    .colab-df-convert {\n",
              "      background-color: #E8F0FE;\n",
              "      border: none;\n",
              "      border-radius: 50%;\n",
              "      cursor: pointer;\n",
              "      display: none;\n",
              "      fill: #1967D2;\n",
              "      height: 32px;\n",
              "      padding: 0 0 0 0;\n",
              "      width: 32px;\n",
              "    }\n",
              "\n",
              "    .colab-df-convert:hover {\n",
              "      background-color: #E2EBFA;\n",
              "      box-shadow: 0px 1px 2px rgba(60, 64, 67, 0.3), 0px 1px 3px 1px rgba(60, 64, 67, 0.15);\n",
              "      fill: #174EA6;\n",
              "    }\n",
              "\n",
              "    [theme=dark] .colab-df-convert {\n",
              "      background-color: #3B4455;\n",
              "      fill: #D2E3FC;\n",
              "    }\n",
              "\n",
              "    [theme=dark] .colab-df-convert:hover {\n",
              "      background-color: #434B5C;\n",
              "      box-shadow: 0px 1px 3px 1px rgba(0, 0, 0, 0.15);\n",
              "      filter: drop-shadow(0px 1px 2px rgba(0, 0, 0, 0.3));\n",
              "      fill: #FFFFFF;\n",
              "    }\n",
              "  </style>\n",
              "\n",
              "      <script>\n",
              "        const buttonEl =\n",
              "          document.querySelector('#df-793779ba-3d7e-45e2-97ac-d2b45c15f0c8 button.colab-df-convert');\n",
              "        buttonEl.style.display =\n",
              "          google.colab.kernel.accessAllowed ? 'block' : 'none';\n",
              "\n",
              "        async function convertToInteractive(key) {\n",
              "          const element = document.querySelector('#df-793779ba-3d7e-45e2-97ac-d2b45c15f0c8');\n",
              "          const dataTable =\n",
              "            await google.colab.kernel.invokeFunction('convertToInteractive',\n",
              "                                                     [key], {});\n",
              "          if (!dataTable) return;\n",
              "\n",
              "          const docLinkHtml = 'Like what you see? Visit the ' +\n",
              "            '<a target=\"_blank\" href=https://colab.research.google.com/notebooks/data_table.ipynb>data table notebook</a>'\n",
              "            + ' to learn more about interactive tables.';\n",
              "          element.innerHTML = '';\n",
              "          dataTable['output_type'] = 'display_data';\n",
              "          await google.colab.output.renderOutput(dataTable, element);\n",
              "          const docLink = document.createElement('div');\n",
              "          docLink.innerHTML = docLinkHtml;\n",
              "          element.appendChild(docLink);\n",
              "        }\n",
              "      </script>\n",
              "    </div>\n",
              "  </div>\n",
              "  "
            ]
          },
          "metadata": {},
          "execution_count": 8
        }
      ]
    },
    {
      "cell_type": "code",
      "source": [
        "df.describe()"
      ],
      "metadata": {
        "colab": {
          "base_uri": "https://localhost:8080/",
          "height": 300
        },
        "id": "t38-aeGa3Ikf",
        "outputId": "338bb478-b763-48a4-b55f-7f7674ee9657"
      },
      "execution_count": 9,
      "outputs": [
        {
          "output_type": "execute_result",
          "data": {
            "text/plain": [
              "            Depth          PW          BW          MH\n",
              "count  423.000000  423.000000  423.000000  423.000000\n",
              "mean    77.546194    9.948558    6.088818    3.000686\n",
              "std     44.716598    4.919084    0.616702    1.122797\n",
              "min     13.220000    2.740000    3.690000    1.000000\n",
              "25%     45.335000    6.195000    5.975000    2.200000\n",
              "50%     66.000000    9.000000    6.000000    2.920000\n",
              "75%     96.000000   12.095000    6.375000    3.650000\n",
              "max    254.450000   35.000000   10.000000    6.450000"
            ],
            "text/html": [
              "\n",
              "  <div id=\"df-9df5012c-3776-4c5a-99d7-faba3cee681f\">\n",
              "    <div class=\"colab-df-container\">\n",
              "      <div>\n",
              "<style scoped>\n",
              "    .dataframe tbody tr th:only-of-type {\n",
              "        vertical-align: middle;\n",
              "    }\n",
              "\n",
              "    .dataframe tbody tr th {\n",
              "        vertical-align: top;\n",
              "    }\n",
              "\n",
              "    .dataframe thead th {\n",
              "        text-align: right;\n",
              "    }\n",
              "</style>\n",
              "<table border=\"1\" class=\"dataframe\">\n",
              "  <thead>\n",
              "    <tr style=\"text-align: right;\">\n",
              "      <th></th>\n",
              "      <th>Depth</th>\n",
              "      <th>PW</th>\n",
              "      <th>BW</th>\n",
              "      <th>MH</th>\n",
              "    </tr>\n",
              "  </thead>\n",
              "  <tbody>\n",
              "    <tr>\n",
              "      <th>count</th>\n",
              "      <td>423.000000</td>\n",
              "      <td>423.000000</td>\n",
              "      <td>423.000000</td>\n",
              "      <td>423.000000</td>\n",
              "    </tr>\n",
              "    <tr>\n",
              "      <th>mean</th>\n",
              "      <td>77.546194</td>\n",
              "      <td>9.948558</td>\n",
              "      <td>6.088818</td>\n",
              "      <td>3.000686</td>\n",
              "    </tr>\n",
              "    <tr>\n",
              "      <th>std</th>\n",
              "      <td>44.716598</td>\n",
              "      <td>4.919084</td>\n",
              "      <td>0.616702</td>\n",
              "      <td>1.122797</td>\n",
              "    </tr>\n",
              "    <tr>\n",
              "      <th>min</th>\n",
              "      <td>13.220000</td>\n",
              "      <td>2.740000</td>\n",
              "      <td>3.690000</td>\n",
              "      <td>1.000000</td>\n",
              "    </tr>\n",
              "    <tr>\n",
              "      <th>25%</th>\n",
              "      <td>45.335000</td>\n",
              "      <td>6.195000</td>\n",
              "      <td>5.975000</td>\n",
              "      <td>2.200000</td>\n",
              "    </tr>\n",
              "    <tr>\n",
              "      <th>50%</th>\n",
              "      <td>66.000000</td>\n",
              "      <td>9.000000</td>\n",
              "      <td>6.000000</td>\n",
              "      <td>2.920000</td>\n",
              "    </tr>\n",
              "    <tr>\n",
              "      <th>75%</th>\n",
              "      <td>96.000000</td>\n",
              "      <td>12.095000</td>\n",
              "      <td>6.375000</td>\n",
              "      <td>3.650000</td>\n",
              "    </tr>\n",
              "    <tr>\n",
              "      <th>max</th>\n",
              "      <td>254.450000</td>\n",
              "      <td>35.000000</td>\n",
              "      <td>10.000000</td>\n",
              "      <td>6.450000</td>\n",
              "    </tr>\n",
              "  </tbody>\n",
              "</table>\n",
              "</div>\n",
              "      <button class=\"colab-df-convert\" onclick=\"convertToInteractive('df-9df5012c-3776-4c5a-99d7-faba3cee681f')\"\n",
              "              title=\"Convert this dataframe to an interactive table.\"\n",
              "              style=\"display:none;\">\n",
              "        \n",
              "  <svg xmlns=\"http://www.w3.org/2000/svg\" height=\"24px\"viewBox=\"0 0 24 24\"\n",
              "       width=\"24px\">\n",
              "    <path d=\"M0 0h24v24H0V0z\" fill=\"none\"/>\n",
              "    <path d=\"M18.56 5.44l.94 2.06.94-2.06 2.06-.94-2.06-.94-.94-2.06-.94 2.06-2.06.94zm-11 1L8.5 8.5l.94-2.06 2.06-.94-2.06-.94L8.5 2.5l-.94 2.06-2.06.94zm10 10l.94 2.06.94-2.06 2.06-.94-2.06-.94-.94-2.06-.94 2.06-2.06.94z\"/><path d=\"M17.41 7.96l-1.37-1.37c-.4-.4-.92-.59-1.43-.59-.52 0-1.04.2-1.43.59L10.3 9.45l-7.72 7.72c-.78.78-.78 2.05 0 2.83L4 21.41c.39.39.9.59 1.41.59.51 0 1.02-.2 1.41-.59l7.78-7.78 2.81-2.81c.8-.78.8-2.07 0-2.86zM5.41 20L4 18.59l7.72-7.72 1.47 1.35L5.41 20z\"/>\n",
              "  </svg>\n",
              "      </button>\n",
              "      \n",
              "  <style>\n",
              "    .colab-df-container {\n",
              "      display:flex;\n",
              "      flex-wrap:wrap;\n",
              "      gap: 12px;\n",
              "    }\n",
              "\n",
              "    .colab-df-convert {\n",
              "      background-color: #E8F0FE;\n",
              "      border: none;\n",
              "      border-radius: 50%;\n",
              "      cursor: pointer;\n",
              "      display: none;\n",
              "      fill: #1967D2;\n",
              "      height: 32px;\n",
              "      padding: 0 0 0 0;\n",
              "      width: 32px;\n",
              "    }\n",
              "\n",
              "    .colab-df-convert:hover {\n",
              "      background-color: #E2EBFA;\n",
              "      box-shadow: 0px 1px 2px rgba(60, 64, 67, 0.3), 0px 1px 3px 1px rgba(60, 64, 67, 0.15);\n",
              "      fill: #174EA6;\n",
              "    }\n",
              "\n",
              "    [theme=dark] .colab-df-convert {\n",
              "      background-color: #3B4455;\n",
              "      fill: #D2E3FC;\n",
              "    }\n",
              "\n",
              "    [theme=dark] .colab-df-convert:hover {\n",
              "      background-color: #434B5C;\n",
              "      box-shadow: 0px 1px 3px 1px rgba(0, 0, 0, 0.15);\n",
              "      filter: drop-shadow(0px 1px 2px rgba(0, 0, 0, 0.3));\n",
              "      fill: #FFFFFF;\n",
              "    }\n",
              "  </style>\n",
              "\n",
              "      <script>\n",
              "        const buttonEl =\n",
              "          document.querySelector('#df-9df5012c-3776-4c5a-99d7-faba3cee681f button.colab-df-convert');\n",
              "        buttonEl.style.display =\n",
              "          google.colab.kernel.accessAllowed ? 'block' : 'none';\n",
              "\n",
              "        async function convertToInteractive(key) {\n",
              "          const element = document.querySelector('#df-9df5012c-3776-4c5a-99d7-faba3cee681f');\n",
              "          const dataTable =\n",
              "            await google.colab.kernel.invokeFunction('convertToInteractive',\n",
              "                                                     [key], {});\n",
              "          if (!dataTable) return;\n",
              "\n",
              "          const docLinkHtml = 'Like what you see? Visit the ' +\n",
              "            '<a target=\"_blank\" href=https://colab.research.google.com/notebooks/data_table.ipynb>data table notebook</a>'\n",
              "            + ' to learn more about interactive tables.';\n",
              "          element.innerHTML = '';\n",
              "          dataTable['output_type'] = 'display_data';\n",
              "          await google.colab.output.renderOutput(dataTable, element);\n",
              "          const docLink = document.createElement('div');\n",
              "          docLink.innerHTML = docLinkHtml;\n",
              "          element.appendChild(docLink);\n",
              "        }\n",
              "      </script>\n",
              "    </div>\n",
              "  </div>\n",
              "  "
            ]
          },
          "metadata": {},
          "execution_count": 9
        }
      ]
    },
    {
      "cell_type": "code",
      "source": [
        "print(df.groupby(['Stability']).agg({\"Stability\": \"count\"}), end=\"\\n\\n\\n\")"
      ],
      "metadata": {
        "colab": {
          "base_uri": "https://localhost:8080/"
        },
        "id": "IKwt2csJJhqO",
        "outputId": "e9f7f78c-7f2c-4eec-af77-9c5f8f3d60fa"
      },
      "execution_count": 10,
      "outputs": [
        {
          "output_type": "stream",
          "name": "stdout",
          "text": [
            "           Stability\n",
            "Stability           \n",
            "Failed            86\n",
            "Intact           337\n",
            "\n",
            "\n"
          ]
        }
      ]
    },
    {
      "cell_type": "code",
      "source": [
        "import plotly.io as pio\n",
        "import plotly.express as px\n",
        "import plotly.offline as py\n",
        "\n",
        "fig = px.scatter(df, x=\"Depth\", y=\"PW\", color=\"Stability\", size=\"BW\")\n",
        "fig"
      ],
      "metadata": {
        "colab": {
          "base_uri": "https://localhost:8080/",
          "height": 542
        },
        "id": "nvuXxO1t389g",
        "outputId": "f4467c11-d2bd-4342-a972-d3cfa60545bf"
      },
      "execution_count": 11,
      "outputs": [
        {
          "output_type": "display_data",
          "data": {
            "text/html": [
              "<html>\n",
              "<head><meta charset=\"utf-8\" /></head>\n",
              "<body>\n",
              "    <div>            <script src=\"https://cdnjs.cloudflare.com/ajax/libs/mathjax/2.7.5/MathJax.js?config=TeX-AMS-MML_SVG\"></script><script type=\"text/javascript\">if (window.MathJax) {MathJax.Hub.Config({SVG: {font: \"STIX-Web\"}});}</script>                <script type=\"text/javascript\">window.PlotlyConfig = {MathJaxConfig: 'local'};</script>\n",
              "        <script src=\"https://cdn.plot.ly/plotly-2.8.3.min.js\"></script>                <div id=\"60b26e7f-15a6-4203-97d8-60a24aa43c4d\" class=\"plotly-graph-div\" style=\"height:525px; width:100%;\"></div>            <script type=\"text/javascript\">                                    window.PLOTLYENV=window.PLOTLYENV || {};                                    if (document.getElementById(\"60b26e7f-15a6-4203-97d8-60a24aa43c4d\")) {                    Plotly.newPlot(                        \"60b26e7f-15a6-4203-97d8-60a24aa43c4d\",                        [{\"hovertemplate\":\"Stability=Failed<br>Depth=%{x}<br>PW=%{y}<br>BW=%{marker.size}<extra></extra>\",\"legendgroup\":\"Failed\",\"marker\":{\"color\":\"#636efa\",\"size\":[6.1,6.3,6.0,6.1,5.25,6.0,6.0,5.0,5.5,5.0,5.0,6.1,6.62,6.47,6.6,5.0,5.0,5.0,5.0,5.0,4.8,5.66,5.0,6.0,6.0,5.49,5.49,5.49,7.62,7.62,6.0,6.5,6.6,6.0,6.45,6.48,5.0,6.0,5.5,6.0,5.5,6.0,6.0,6.0,5.5,5.49,6.4,6.1,5.8,6.7,6.7,6.0,5.4,6.4,6.2,6.5,6.4,6.5,6.1,6.1,6.4,6.4,6.4,5.5,6.4,6.5,6.2,6.5,6.2,6.1,7.62,7.62,6.4,8.53,8.23,7.01,7.92,7.62,6.71,7.62,6.4,5.79,6.55,6.4,6.86,6.4],\"sizemode\":\"area\",\"sizeref\":0.025,\"symbol\":\"circle\"},\"mode\":\"markers\",\"name\":\"Failed\",\"orientation\":\"v\",\"showlegend\":true,\"x\":[76.2,29.0,60.0,53.0,21.0,19.0,23.0,40.0,42.0,50.0,55.0,87.8,55.5,78.2,73.5,70.0,63.5,61.0,61.0,74.0,74.0,57.66,165.7,195.0,205.0,167.6,193.2,184.7,36.6,62.5,101.0,100.0,97.0,51.5,112.0,108.0,82.0,96.0,70.0,88.0,112.0,96.0,82.0,104.0,128.0,128.0,57.9,152.4,28.5,34.0,34.0,90.0,57.0,62.0,62.0,56.0,33.0,22.0,62.0,62.0,41.0,41.0,41.0,35.5,32.0,32.5,43.0,86.4,102.0,61.0,61.0,57.9,41.1,25.9,21.3,29.6,27.4,36.6,33.5,30.5,53.3,68.6,88.4,57.9,61.0,30.5],\"xaxis\":\"x\",\"y\":[4.88,5.4,7.0,5.6,6.75,6.0,6.0,7.0,4.5,7.0,7.0,6.1,7.43,10.53,8.4,7.5,7.5,6.0,7.5,10.0,7.7,5.3,15.0,17.0,17.0,15.85,15.85,15.85,6.1,6.1,9.0,8.5,9.0,6.0,10.55,10.55,10.0,12.0,12.5,11.0,11.5,12.0,12.0,12.0,12.8,9.75,5.18,12.19,3.8,3.5,3.5,7.5,3.6,7.5,7.3,5.1,6.4,3.5,6.1,6.1,6.4,6.4,6.4,5.5,3.3,3.2,4.8,7.5,7.6,6.1,6.1,6.1,4.27,3.66,3.96,5.18,3.66,4.57,6.1,4.57,5.18,3.35,7.16,5.18,4.72,3.35],\"yaxis\":\"y\",\"type\":\"scatter\"},{\"hovertemplate\":\"Stability=Intact<br>Depth=%{x}<br>PW=%{y}<br>BW=%{marker.size}<extra></extra>\",\"legendgroup\":\"Intact\",\"marker\":{\"color\":\"#EF553B\",\"size\":[6.27,6.08,6.96,6.06,5.98,5.99,6.11,7.63,7.11,7.67,6.89,7.5,5.53,5.09,5.07,5.68,5.21,5.38,4.97,5.22,5.18,5.08,5.7,5.77,5.52,6.36,6.3,6.25,6.17,6.16,5.96,6.01,6.68,6.04,6.32,6.43,6.93,6.54,5.5,5.23,5.37,6.39,6.37,6.54,6.12,6.13,6.38,6.81,6.52,6.2,6.08,5.74,5.94,6.82,7.04,6.65,6.61,6.78,6.0,6.57,5.05,5.86,5.62,6.0,5.18,5.49,5.49,5.49,5.49,6.0,6.0,6.0,6.0,6.0,6.0,6.0,6.0,6.0,5.6,5.84,6.0,6.0,6.0,6.0,6.0,5.49,5.49,5.49,6.1,6.71,6.0,6.0,6.0,6.0,6.0,6.0,6.0,6.26,6.81,6.15,5.84,6.35,6.1,5.49,5.49,5.49,5.49,5.49,6.1,5.49,5.49,6.1,6.1,5.0,5.0,5.0,5.0,5.0,6.0,6.0,6.0,6.0,6.0,6.6,6.6,6.78,6.8,6.1,6.1,6.1,6.1,6.0,6.0,6.0,6.0,6.0,5.49,6.0,6.0,6.0,6.0,6.0,6.0,6.0,6.0,6.0,6.0,6.0,6.0,6.0,6.0,6.0,6.71,6.1,6.0,6.0,6.0,6.0,6.0,6.0,6.0,6.0,6.0,5.0,5.0,6.1,7.62,6.1,6.71,6.9,5.7,6.0,6.0,6.0,6.0,6.2,6.02,6.11,6.34,6.4,5.69,6.13,7.1,6.08,6.32,6.43,6.35,7.11,5.96,6.65,6.3,6.3,6.48,6.41,6.0,6.37,6.99,6.0,6.97,7.03,6.42,7.1,6.68,6.79,6.34,5.97,6.78,6.3,6.2,7.08,7.15,7.19,6.0,6.0,6.0,6.48,7.5,6.93,6.71,6.71,6.1,6.1,6.1,6.1,6.71,5.49,6.1,3.69,6.71,5.49,5.49,6.31,5.97,6.22,5.49,5.7,5.49,4.88,6.1,6.1,6.1,6.1,6.1,6.0,6.0,6.0,6.0,5.49,6.1,6.4,6.0,6.0,6.1,6.1,6.1,6.1,6.1,6.1,6.1,5.49,6.1,6.19,6.0,6.0,5.0,5.0,5.0,5.0,6.0,5.89,5.89,7.62,6.25,6.1,5.49,6.1,6.1,6.0,6.1,6.4,6.0,6.0,6.0,6.0,6.71,6.1,6.1,6.0,6.0,6.0,6.0,6.02,5.73,6.18,6.29,6.0,6.5,6.0,6.0,6.4,6.0,6.1,5.58,6.1,5.49,5.94,6.1,5.49,6.1,6.1,4.88,10.0,7.0,7.0,6.0,6.1,6.1,5.49,6.1,6.1,6.1,5.0,6.0,6.0,6.0,6.0,5.0,5.0,5.0,6.4,6.0,6.0,6.71,6.4,6.4,6.0,6.0],\"sizemode\":\"area\",\"sizeref\":0.025,\"symbol\":\"circle\"},\"mode\":\"markers\",\"name\":\"Intact\",\"orientation\":\"v\",\"showlegend\":true,\"x\":[36.2,39.95,55.2,30.35,41.35,57.34,63.15,40.86,30.55,49.82,47.07,66.95,25.98,26.83,42.61,23.0,23.76,23.54,26.75,19.4,20.8,23.33,58.89,96.2,33.94,39.1,36.5,24.15,25.7,18.58,21.5,44.95,26.51,97.27,165.45,167.68,183.83,54.0,112.0,98.15,64.79,80.5,54.6,25.15,35.73,55.7,52.5,35.5,40.33,22.62,28.75,22.3,37.7,36.26,50.17,37.08,61.1,42.0,39.33,59.16,64.24,59.98,17.91,29.56,45.72,76.2,85.34,121.92,97.54,108.0,108.0,150.0,208.0,208.0,166.0,174.0,64.47,50.0,34.6,77.65,55.75,55.75,79.92,34.15,36.53,45.72,68.58,91.44,76.2,30.48,63.64,70.79,118.62,108.75,53.86,98.72,170.0,154.0,171.7,151.0,137.0,106.0,91.44,60.96,114.0,146.3,91.44,114.0,106.68,140.21,93.88,39.62,91.44,223.38,173.22,215.05,254.45,215.05,62.48,62.48,62.48,70.0,122.17,122.0,122.0,94.0,94.0,45.72,60.96,76.2,91.44,40.07,40.07,56.11,111.91,121.02,143.26,140.72,83.43,101.21,114.35,119.41,114.3,104.76,130.75,44.55,44.55,40.3,37.36,70.76,44.55,87.53,90.22,115.82,84.84,84.84,84.84,61.5,61.5,58.71,58.71,108.63,108.63,94.28,94.28,51.82,64.01,48.77,108.51,46.1,50.0,58.3,59.3,196.0,64.92,55.0,65.0,51.0,68.0,46.0,74.0,68.0,68.0,54.0,70.0,49.0,51.0,72.0,77.0,57.0,75.0,78.0,54.0,56.0,64.92,73.0,81.0,64.92,75.0,84.0,79.0,74.0,71.0,73.0,83.0,75.0,77.0,71.0,76.0,66.0,76.0,77.0,93.8,93.8,93.8,109.0,106.0,92.28,122.0,122.0,97.54,106.68,45.72,60.96,60.96,30.48,85.34,167.64,108.51,42.67,140.21,160.93,180.44,163.98,146.0,198.12,182.88,36.58,91.44,60.96,76.2,91.44,45.72,178.49,195.15,203.42,203.42,42.67,91.44,48.77,83.92,87.6,45.72,60.96,45.72,60.96,76.2,91.44,76.2,33.53,115.82,169.0,70.0,104.0,110.5,110.5,70.0,70.0,93.0,84.0,84.0,47.24,64.01,91.44,38.1,106.68,88.39,84.65,85.34,108.51,79.4,138.89,138.89,79.4,60.96,30.48,44.2,42.8,67.8,67.8,36.3,51.8,124.9,110.0,146.2,68.9,34.5,33.8,52.8,38.37,52.8,45.72,219.46,76.2,106.68,182.88,91.44,35.05,50.6,76.2,35.05,42.0,36.0,38.0,22.0,36.58,51.82,137.16,91.44,45.72,19.81,29.77,58.53,58.53,42.59,13.22,65.78,54.65,54.99,45.72,82.0,70.1,21.34,30.48,41.15,78.54,78.54],\"xaxis\":\"x\",\"y\":[5.7,6.89,8.98,8.96,8.0,9.07,8.02,7.55,8.07,7.63,8.29,7.77,3.11,2.91,4.38,4.0,4.3,4.24,4.54,4.26,4.24,4.37,8.06,8.06,8.17,6.63,7.25,6.1,6.15,4.86,5.09,5.03,4.32,8.63,11.66,12.98,12.99,6.0,17.0,12.56,13.03,6.58,5.67,4.39,5.0,6.85,5.66,4.6,4.53,4.8,5.0,6.24,7.05,6.23,5.85,6.29,7.08,5.38,8.05,7.17,5.59,6.19,4.31,6.2,5.49,6.71,8.23,12.8,9.75,9.0,9.0,9.0,17.0,17.0,17.0,17.0,9.0,10.0,12.21,12.0,10.28,11.0,9.0,8.0,7.0,4.27,5.18,6.1,7.62,5.49,14.0,12.0,15.0,14.0,7.0,13.0,22.0,21.37,21.19,23.85,21.82,15.84,6.1,9.75,12.8,17.37,12.8,17.37,9.14,12.8,9.75,6.1,6.1,28.0,25.0,35.0,35.0,25.0,10.0,15.0,9.0,15.0,12.0,15.4,15.4,10.22,10.2,6.1,7.62,9.14,10.67,8.0,7.5,7.5,13.4,13.0,12.8,15.0,12.0,12.0,12.0,15.0,12.0,12.0,15.0,12.0,12.0,8.0,10.0,14.0,6.0,12.0,8.53,7.62,7.0,7.0,7.0,9.47,9.26,11.0,7.0,12.5,18.5,10.0,10.0,9.14,7.62,9.14,8.53,7.1,9.3,8.47,11.0,15.0,20.57,11.8,10.98,8.89,11.66,8.6,11.31,10.87,12.9,8.92,10.68,8.57,8.65,12.89,10.04,9.35,10.7,10.7,8.52,8.59,9.0,10.63,13.01,9.0,10.03,12.97,13.58,9.9,12.32,10.21,13.66,11.03,10.22,10.7,10.8,10.92,8.85,9.81,14.0,14.92,14.7,17.5,16.47,17.07,21.0,21.2,9.14,15.24,4.88,4.88,7.01,2.74,7.62,14.33,7.62,4.27,17.37,14.94,15.24,15.0,16.46,17.16,15.85,7.32,7.62,9.14,10.67,12.19,6.1,19.0,20.0,19.0,19.0,5.49,6.1,7.32,11.47,12.0,6.1,7.62,6.1,7.62,9.14,12.19,9.14,6.71,9.14,21.81,12.0,11.0,12.0,12.0,20.57,15.44,10.0,11.0,11.5,6.1,6.1,10.67,4.27,12.19,9.14,6.0,7.62,8.84,24.0,17.78,31.06,19.47,7.01,6.1,6.1,7.0,11.0,11.73,8.0,10.98,18.27,17.82,19.89,12.9,5.5,8.0,8.0,8.1,11.3,6.1,21.73,7.62,6.71,16.92,12.19,9.75,6.1,9.14,7.32,5.0,5.0,5.0,6.0,6.1,7.62,12.8,9.14,7.62,7.62,14.0,11.42,14.0,15.0,8.0,10.0,10.0,9.47,6.55,12.0,12.0,6.1,6.4,6.4,14.0,14.0],\"yaxis\":\"y\",\"type\":\"scatter\"}],                        {\"template\":{\"data\":{\"bar\":[{\"error_x\":{\"color\":\"#2a3f5f\"},\"error_y\":{\"color\":\"#2a3f5f\"},\"marker\":{\"line\":{\"color\":\"#E5ECF6\",\"width\":0.5},\"pattern\":{\"fillmode\":\"overlay\",\"size\":10,\"solidity\":0.2}},\"type\":\"bar\"}],\"barpolar\":[{\"marker\":{\"line\":{\"color\":\"#E5ECF6\",\"width\":0.5},\"pattern\":{\"fillmode\":\"overlay\",\"size\":10,\"solidity\":0.2}},\"type\":\"barpolar\"}],\"carpet\":[{\"aaxis\":{\"endlinecolor\":\"#2a3f5f\",\"gridcolor\":\"white\",\"linecolor\":\"white\",\"minorgridcolor\":\"white\",\"startlinecolor\":\"#2a3f5f\"},\"baxis\":{\"endlinecolor\":\"#2a3f5f\",\"gridcolor\":\"white\",\"linecolor\":\"white\",\"minorgridcolor\":\"white\",\"startlinecolor\":\"#2a3f5f\"},\"type\":\"carpet\"}],\"choropleth\":[{\"colorbar\":{\"outlinewidth\":0,\"ticks\":\"\"},\"type\":\"choropleth\"}],\"contour\":[{\"colorbar\":{\"outlinewidth\":0,\"ticks\":\"\"},\"colorscale\":[[0.0,\"#0d0887\"],[0.1111111111111111,\"#46039f\"],[0.2222222222222222,\"#7201a8\"],[0.3333333333333333,\"#9c179e\"],[0.4444444444444444,\"#bd3786\"],[0.5555555555555556,\"#d8576b\"],[0.6666666666666666,\"#ed7953\"],[0.7777777777777778,\"#fb9f3a\"],[0.8888888888888888,\"#fdca26\"],[1.0,\"#f0f921\"]],\"type\":\"contour\"}],\"contourcarpet\":[{\"colorbar\":{\"outlinewidth\":0,\"ticks\":\"\"},\"type\":\"contourcarpet\"}],\"heatmap\":[{\"colorbar\":{\"outlinewidth\":0,\"ticks\":\"\"},\"colorscale\":[[0.0,\"#0d0887\"],[0.1111111111111111,\"#46039f\"],[0.2222222222222222,\"#7201a8\"],[0.3333333333333333,\"#9c179e\"],[0.4444444444444444,\"#bd3786\"],[0.5555555555555556,\"#d8576b\"],[0.6666666666666666,\"#ed7953\"],[0.7777777777777778,\"#fb9f3a\"],[0.8888888888888888,\"#fdca26\"],[1.0,\"#f0f921\"]],\"type\":\"heatmap\"}],\"heatmapgl\":[{\"colorbar\":{\"outlinewidth\":0,\"ticks\":\"\"},\"colorscale\":[[0.0,\"#0d0887\"],[0.1111111111111111,\"#46039f\"],[0.2222222222222222,\"#7201a8\"],[0.3333333333333333,\"#9c179e\"],[0.4444444444444444,\"#bd3786\"],[0.5555555555555556,\"#d8576b\"],[0.6666666666666666,\"#ed7953\"],[0.7777777777777778,\"#fb9f3a\"],[0.8888888888888888,\"#fdca26\"],[1.0,\"#f0f921\"]],\"type\":\"heatmapgl\"}],\"histogram\":[{\"marker\":{\"pattern\":{\"fillmode\":\"overlay\",\"size\":10,\"solidity\":0.2}},\"type\":\"histogram\"}],\"histogram2d\":[{\"colorbar\":{\"outlinewidth\":0,\"ticks\":\"\"},\"colorscale\":[[0.0,\"#0d0887\"],[0.1111111111111111,\"#46039f\"],[0.2222222222222222,\"#7201a8\"],[0.3333333333333333,\"#9c179e\"],[0.4444444444444444,\"#bd3786\"],[0.5555555555555556,\"#d8576b\"],[0.6666666666666666,\"#ed7953\"],[0.7777777777777778,\"#fb9f3a\"],[0.8888888888888888,\"#fdca26\"],[1.0,\"#f0f921\"]],\"type\":\"histogram2d\"}],\"histogram2dcontour\":[{\"colorbar\":{\"outlinewidth\":0,\"ticks\":\"\"},\"colorscale\":[[0.0,\"#0d0887\"],[0.1111111111111111,\"#46039f\"],[0.2222222222222222,\"#7201a8\"],[0.3333333333333333,\"#9c179e\"],[0.4444444444444444,\"#bd3786\"],[0.5555555555555556,\"#d8576b\"],[0.6666666666666666,\"#ed7953\"],[0.7777777777777778,\"#fb9f3a\"],[0.8888888888888888,\"#fdca26\"],[1.0,\"#f0f921\"]],\"type\":\"histogram2dcontour\"}],\"mesh3d\":[{\"colorbar\":{\"outlinewidth\":0,\"ticks\":\"\"},\"type\":\"mesh3d\"}],\"parcoords\":[{\"line\":{\"colorbar\":{\"outlinewidth\":0,\"ticks\":\"\"}},\"type\":\"parcoords\"}],\"pie\":[{\"automargin\":true,\"type\":\"pie\"}],\"scatter\":[{\"marker\":{\"colorbar\":{\"outlinewidth\":0,\"ticks\":\"\"}},\"type\":\"scatter\"}],\"scatter3d\":[{\"line\":{\"colorbar\":{\"outlinewidth\":0,\"ticks\":\"\"}},\"marker\":{\"colorbar\":{\"outlinewidth\":0,\"ticks\":\"\"}},\"type\":\"scatter3d\"}],\"scattercarpet\":[{\"marker\":{\"colorbar\":{\"outlinewidth\":0,\"ticks\":\"\"}},\"type\":\"scattercarpet\"}],\"scattergeo\":[{\"marker\":{\"colorbar\":{\"outlinewidth\":0,\"ticks\":\"\"}},\"type\":\"scattergeo\"}],\"scattergl\":[{\"marker\":{\"colorbar\":{\"outlinewidth\":0,\"ticks\":\"\"}},\"type\":\"scattergl\"}],\"scattermapbox\":[{\"marker\":{\"colorbar\":{\"outlinewidth\":0,\"ticks\":\"\"}},\"type\":\"scattermapbox\"}],\"scatterpolar\":[{\"marker\":{\"colorbar\":{\"outlinewidth\":0,\"ticks\":\"\"}},\"type\":\"scatterpolar\"}],\"scatterpolargl\":[{\"marker\":{\"colorbar\":{\"outlinewidth\":0,\"ticks\":\"\"}},\"type\":\"scatterpolargl\"}],\"scatterternary\":[{\"marker\":{\"colorbar\":{\"outlinewidth\":0,\"ticks\":\"\"}},\"type\":\"scatterternary\"}],\"surface\":[{\"colorbar\":{\"outlinewidth\":0,\"ticks\":\"\"},\"colorscale\":[[0.0,\"#0d0887\"],[0.1111111111111111,\"#46039f\"],[0.2222222222222222,\"#7201a8\"],[0.3333333333333333,\"#9c179e\"],[0.4444444444444444,\"#bd3786\"],[0.5555555555555556,\"#d8576b\"],[0.6666666666666666,\"#ed7953\"],[0.7777777777777778,\"#fb9f3a\"],[0.8888888888888888,\"#fdca26\"],[1.0,\"#f0f921\"]],\"type\":\"surface\"}],\"table\":[{\"cells\":{\"fill\":{\"color\":\"#EBF0F8\"},\"line\":{\"color\":\"white\"}},\"header\":{\"fill\":{\"color\":\"#C8D4E3\"},\"line\":{\"color\":\"white\"}},\"type\":\"table\"}]},\"layout\":{\"annotationdefaults\":{\"arrowcolor\":\"#2a3f5f\",\"arrowhead\":0,\"arrowwidth\":1},\"autotypenumbers\":\"strict\",\"coloraxis\":{\"colorbar\":{\"outlinewidth\":0,\"ticks\":\"\"}},\"colorscale\":{\"diverging\":[[0,\"#8e0152\"],[0.1,\"#c51b7d\"],[0.2,\"#de77ae\"],[0.3,\"#f1b6da\"],[0.4,\"#fde0ef\"],[0.5,\"#f7f7f7\"],[0.6,\"#e6f5d0\"],[0.7,\"#b8e186\"],[0.8,\"#7fbc41\"],[0.9,\"#4d9221\"],[1,\"#276419\"]],\"sequential\":[[0.0,\"#0d0887\"],[0.1111111111111111,\"#46039f\"],[0.2222222222222222,\"#7201a8\"],[0.3333333333333333,\"#9c179e\"],[0.4444444444444444,\"#bd3786\"],[0.5555555555555556,\"#d8576b\"],[0.6666666666666666,\"#ed7953\"],[0.7777777777777778,\"#fb9f3a\"],[0.8888888888888888,\"#fdca26\"],[1.0,\"#f0f921\"]],\"sequentialminus\":[[0.0,\"#0d0887\"],[0.1111111111111111,\"#46039f\"],[0.2222222222222222,\"#7201a8\"],[0.3333333333333333,\"#9c179e\"],[0.4444444444444444,\"#bd3786\"],[0.5555555555555556,\"#d8576b\"],[0.6666666666666666,\"#ed7953\"],[0.7777777777777778,\"#fb9f3a\"],[0.8888888888888888,\"#fdca26\"],[1.0,\"#f0f921\"]]},\"colorway\":[\"#636efa\",\"#EF553B\",\"#00cc96\",\"#ab63fa\",\"#FFA15A\",\"#19d3f3\",\"#FF6692\",\"#B6E880\",\"#FF97FF\",\"#FECB52\"],\"font\":{\"color\":\"#2a3f5f\"},\"geo\":{\"bgcolor\":\"white\",\"lakecolor\":\"white\",\"landcolor\":\"#E5ECF6\",\"showlakes\":true,\"showland\":true,\"subunitcolor\":\"white\"},\"hoverlabel\":{\"align\":\"left\"},\"hovermode\":\"closest\",\"mapbox\":{\"style\":\"light\"},\"paper_bgcolor\":\"white\",\"plot_bgcolor\":\"#E5ECF6\",\"polar\":{\"angularaxis\":{\"gridcolor\":\"white\",\"linecolor\":\"white\",\"ticks\":\"\"},\"bgcolor\":\"#E5ECF6\",\"radialaxis\":{\"gridcolor\":\"white\",\"linecolor\":\"white\",\"ticks\":\"\"}},\"scene\":{\"xaxis\":{\"backgroundcolor\":\"#E5ECF6\",\"gridcolor\":\"white\",\"gridwidth\":2,\"linecolor\":\"white\",\"showbackground\":true,\"ticks\":\"\",\"zerolinecolor\":\"white\"},\"yaxis\":{\"backgroundcolor\":\"#E5ECF6\",\"gridcolor\":\"white\",\"gridwidth\":2,\"linecolor\":\"white\",\"showbackground\":true,\"ticks\":\"\",\"zerolinecolor\":\"white\"},\"zaxis\":{\"backgroundcolor\":\"#E5ECF6\",\"gridcolor\":\"white\",\"gridwidth\":2,\"linecolor\":\"white\",\"showbackground\":true,\"ticks\":\"\",\"zerolinecolor\":\"white\"}},\"shapedefaults\":{\"line\":{\"color\":\"#2a3f5f\"}},\"ternary\":{\"aaxis\":{\"gridcolor\":\"white\",\"linecolor\":\"white\",\"ticks\":\"\"},\"baxis\":{\"gridcolor\":\"white\",\"linecolor\":\"white\",\"ticks\":\"\"},\"bgcolor\":\"#E5ECF6\",\"caxis\":{\"gridcolor\":\"white\",\"linecolor\":\"white\",\"ticks\":\"\"}},\"title\":{\"x\":0.05},\"xaxis\":{\"automargin\":true,\"gridcolor\":\"white\",\"linecolor\":\"white\",\"ticks\":\"\",\"title\":{\"standoff\":15},\"zerolinecolor\":\"white\",\"zerolinewidth\":2},\"yaxis\":{\"automargin\":true,\"gridcolor\":\"white\",\"linecolor\":\"white\",\"ticks\":\"\",\"title\":{\"standoff\":15},\"zerolinecolor\":\"white\",\"zerolinewidth\":2}}},\"xaxis\":{\"anchor\":\"y\",\"domain\":[0.0,1.0],\"title\":{\"text\":\"Depth\"}},\"yaxis\":{\"anchor\":\"x\",\"domain\":[0.0,1.0],\"title\":{\"text\":\"PW\"}},\"legend\":{\"title\":{\"text\":\"Stability\"},\"tracegroupgap\":0,\"itemsizing\":\"constant\"},\"margin\":{\"t\":60}},                        {\"responsive\": true}                    ).then(function(){\n",
              "                            \n",
              "var gd = document.getElementById('60b26e7f-15a6-4203-97d8-60a24aa43c4d');\n",
              "var x = new MutationObserver(function (mutations, observer) {{\n",
              "        var display = window.getComputedStyle(gd).display;\n",
              "        if (!display || display === 'none') {{\n",
              "            console.log([gd, 'removed!']);\n",
              "            Plotly.purge(gd);\n",
              "            observer.disconnect();\n",
              "        }}\n",
              "}});\n",
              "\n",
              "// Listen for the removal of the full notebook cells\n",
              "var notebookContainer = gd.closest('#notebook-container');\n",
              "if (notebookContainer) {{\n",
              "    x.observe(notebookContainer, {childList: true});\n",
              "}}\n",
              "\n",
              "// Listen for the clearing of the current output cell\n",
              "var outputEl = gd.closest('.output');\n",
              "if (outputEl) {{\n",
              "    x.observe(outputEl, {childList: true});\n",
              "}}\n",
              "\n",
              "                        })                };                            </script>        </div>\n",
              "</body>\n",
              "</html>"
            ]
          },
          "metadata": {}
        }
      ]
    },
    {
      "cell_type": "markdown",
      "source": [
        "#**Preprocessing**"
      ],
      "metadata": {
        "id": "x5oVRrPJ_9ht"
      }
    },
    {
      "cell_type": "markdown",
      "source": [
        "##Imbalance dataset"
      ],
      "metadata": {
        "id": "Mo56jiL3JuBf"
      }
    },
    {
      "cell_type": "code",
      "source": [
        "X, y = df.drop('Stability', axis=1),df['Stability']"
      ],
      "metadata": {
        "id": "IrYqYWE511PJ"
      },
      "execution_count": 12,
      "outputs": []
    },
    {
      "cell_type": "markdown",
      "source": [
        "###Oversampling"
      ],
      "metadata": {
        "id": "VYX9UHdFat2S"
      }
    },
    {
      "cell_type": "code",
      "source": [
        "# example of random oversampling to balance the class distribution\n",
        "from collections import Counter\n",
        "from sklearn.datasets import make_classification\n",
        "from imblearn.over_sampling import RandomOverSampler\n",
        "from imblearn.under_sampling import RandomUnderSampler"
      ],
      "metadata": {
        "id": "3EBW5mTG4Kdi"
      },
      "execution_count": 13,
      "outputs": []
    },
    {
      "cell_type": "code",
      "source": [
        "ros = RandomOverSampler(random_state=0)\n",
        "X_resampled, y_resampled = ros.fit_resample(X, y)"
      ],
      "metadata": {
        "id": "x-qut00e4mCI"
      },
      "execution_count": 14,
      "outputs": []
    },
    {
      "cell_type": "code",
      "source": [
        "X_resampled, y_resampled = ros.fit_resample(X, y)"
      ],
      "metadata": {
        "id": "yhp5Lgj54D4F"
      },
      "execution_count": 15,
      "outputs": []
    },
    {
      "cell_type": "markdown",
      "source": [
        "### Undersampling"
      ],
      "metadata": {
        "id": "ugJVkRcGay_h"
      }
    },
    {
      "cell_type": "code",
      "source": [
        "rus = RandomUnderSampler(random_state=0)\n",
        "X_resampled, y_resampled = rus.fit_resample(X, y)"
      ],
      "metadata": {
        "id": "oXIpR7t2axKL"
      },
      "execution_count": 113,
      "outputs": []
    },
    {
      "cell_type": "markdown",
      "source": [
        "###Hasil"
      ],
      "metadata": {
        "id": "r5ompXBkkVqX"
      }
    },
    {
      "cell_type": "code",
      "source": [
        "print(X_resampled)"
      ],
      "metadata": {
        "colab": {
          "base_uri": "https://localhost:8080/"
        },
        "id": "Vs4ZcAwP5I45",
        "outputId": "ab6ff4b4-9657-4459-b038-121972f384ee"
      },
      "execution_count": 16,
      "outputs": [
        {
          "output_type": "stream",
          "name": "stdout",
          "text": [
            "     Depth     PW    BW    MH\n",
            "0     76.2   4.88  6.10  1.37\n",
            "1     29.0   5.40  6.30  2.90\n",
            "2     60.0   7.00  6.00  1.82\n",
            "3     53.0   5.60  6.10  1.80\n",
            "4     21.0   6.75  5.25  3.20\n",
            "..     ...    ...   ...   ...\n",
            "669  112.0  10.55  6.45  2.82\n",
            "670   61.0   6.10  6.10  4.57\n",
            "671   62.0   7.50  6.40  4.00\n",
            "672   53.3   5.18  6.40  3.66\n",
            "673   41.0   6.40  6.40  6.20\n",
            "\n",
            "[674 rows x 4 columns]\n"
          ]
        }
      ]
    },
    {
      "cell_type": "code",
      "source": [
        "print(y_resampled)"
      ],
      "metadata": {
        "colab": {
          "base_uri": "https://localhost:8080/"
        },
        "id": "BIhbgaeI5LC7",
        "outputId": "f1799642-8af7-4fda-f547-9fa5a9259343"
      },
      "execution_count": 17,
      "outputs": [
        {
          "output_type": "stream",
          "name": "stdout",
          "text": [
            "0      Failed\n",
            "1      Failed\n",
            "2      Failed\n",
            "3      Failed\n",
            "4      Failed\n",
            "        ...  \n",
            "669    Failed\n",
            "670    Failed\n",
            "671    Failed\n",
            "672    Failed\n",
            "673    Failed\n",
            "Name: Stability, Length: 674, dtype: object\n"
          ]
        }
      ]
    },
    {
      "cell_type": "code",
      "source": [
        "df=pd.concat([X_resampled, y_resampled], axis=1)\n",
        "df.head()"
      ],
      "metadata": {
        "colab": {
          "base_uri": "https://localhost:8080/",
          "height": 206
        },
        "id": "7kdDSahz5g3R",
        "outputId": "1f69ab8f-deb7-4734-c386-6255de58f007"
      },
      "execution_count": 18,
      "outputs": [
        {
          "output_type": "execute_result",
          "data": {
            "text/plain": [
              "   Depth    PW    BW    MH Stability\n",
              "0   76.2  4.88  6.10  1.37    Failed\n",
              "1   29.0  5.40  6.30  2.90    Failed\n",
              "2   60.0  7.00  6.00  1.82    Failed\n",
              "3   53.0  5.60  6.10  1.80    Failed\n",
              "4   21.0  6.75  5.25  3.20    Failed"
            ],
            "text/html": [
              "\n",
              "  <div id=\"df-4005c215-3d76-481b-8efb-e16c17c5d563\">\n",
              "    <div class=\"colab-df-container\">\n",
              "      <div>\n",
              "<style scoped>\n",
              "    .dataframe tbody tr th:only-of-type {\n",
              "        vertical-align: middle;\n",
              "    }\n",
              "\n",
              "    .dataframe tbody tr th {\n",
              "        vertical-align: top;\n",
              "    }\n",
              "\n",
              "    .dataframe thead th {\n",
              "        text-align: right;\n",
              "    }\n",
              "</style>\n",
              "<table border=\"1\" class=\"dataframe\">\n",
              "  <thead>\n",
              "    <tr style=\"text-align: right;\">\n",
              "      <th></th>\n",
              "      <th>Depth</th>\n",
              "      <th>PW</th>\n",
              "      <th>BW</th>\n",
              "      <th>MH</th>\n",
              "      <th>Stability</th>\n",
              "    </tr>\n",
              "  </thead>\n",
              "  <tbody>\n",
              "    <tr>\n",
              "      <th>0</th>\n",
              "      <td>76.2</td>\n",
              "      <td>4.88</td>\n",
              "      <td>6.10</td>\n",
              "      <td>1.37</td>\n",
              "      <td>Failed</td>\n",
              "    </tr>\n",
              "    <tr>\n",
              "      <th>1</th>\n",
              "      <td>29.0</td>\n",
              "      <td>5.40</td>\n",
              "      <td>6.30</td>\n",
              "      <td>2.90</td>\n",
              "      <td>Failed</td>\n",
              "    </tr>\n",
              "    <tr>\n",
              "      <th>2</th>\n",
              "      <td>60.0</td>\n",
              "      <td>7.00</td>\n",
              "      <td>6.00</td>\n",
              "      <td>1.82</td>\n",
              "      <td>Failed</td>\n",
              "    </tr>\n",
              "    <tr>\n",
              "      <th>3</th>\n",
              "      <td>53.0</td>\n",
              "      <td>5.60</td>\n",
              "      <td>6.10</td>\n",
              "      <td>1.80</td>\n",
              "      <td>Failed</td>\n",
              "    </tr>\n",
              "    <tr>\n",
              "      <th>4</th>\n",
              "      <td>21.0</td>\n",
              "      <td>6.75</td>\n",
              "      <td>5.25</td>\n",
              "      <td>3.20</td>\n",
              "      <td>Failed</td>\n",
              "    </tr>\n",
              "  </tbody>\n",
              "</table>\n",
              "</div>\n",
              "      <button class=\"colab-df-convert\" onclick=\"convertToInteractive('df-4005c215-3d76-481b-8efb-e16c17c5d563')\"\n",
              "              title=\"Convert this dataframe to an interactive table.\"\n",
              "              style=\"display:none;\">\n",
              "        \n",
              "  <svg xmlns=\"http://www.w3.org/2000/svg\" height=\"24px\"viewBox=\"0 0 24 24\"\n",
              "       width=\"24px\">\n",
              "    <path d=\"M0 0h24v24H0V0z\" fill=\"none\"/>\n",
              "    <path d=\"M18.56 5.44l.94 2.06.94-2.06 2.06-.94-2.06-.94-.94-2.06-.94 2.06-2.06.94zm-11 1L8.5 8.5l.94-2.06 2.06-.94-2.06-.94L8.5 2.5l-.94 2.06-2.06.94zm10 10l.94 2.06.94-2.06 2.06-.94-2.06-.94-.94-2.06-.94 2.06-2.06.94z\"/><path d=\"M17.41 7.96l-1.37-1.37c-.4-.4-.92-.59-1.43-.59-.52 0-1.04.2-1.43.59L10.3 9.45l-7.72 7.72c-.78.78-.78 2.05 0 2.83L4 21.41c.39.39.9.59 1.41.59.51 0 1.02-.2 1.41-.59l7.78-7.78 2.81-2.81c.8-.78.8-2.07 0-2.86zM5.41 20L4 18.59l7.72-7.72 1.47 1.35L5.41 20z\"/>\n",
              "  </svg>\n",
              "      </button>\n",
              "      \n",
              "  <style>\n",
              "    .colab-df-container {\n",
              "      display:flex;\n",
              "      flex-wrap:wrap;\n",
              "      gap: 12px;\n",
              "    }\n",
              "\n",
              "    .colab-df-convert {\n",
              "      background-color: #E8F0FE;\n",
              "      border: none;\n",
              "      border-radius: 50%;\n",
              "      cursor: pointer;\n",
              "      display: none;\n",
              "      fill: #1967D2;\n",
              "      height: 32px;\n",
              "      padding: 0 0 0 0;\n",
              "      width: 32px;\n",
              "    }\n",
              "\n",
              "    .colab-df-convert:hover {\n",
              "      background-color: #E2EBFA;\n",
              "      box-shadow: 0px 1px 2px rgba(60, 64, 67, 0.3), 0px 1px 3px 1px rgba(60, 64, 67, 0.15);\n",
              "      fill: #174EA6;\n",
              "    }\n",
              "\n",
              "    [theme=dark] .colab-df-convert {\n",
              "      background-color: #3B4455;\n",
              "      fill: #D2E3FC;\n",
              "    }\n",
              "\n",
              "    [theme=dark] .colab-df-convert:hover {\n",
              "      background-color: #434B5C;\n",
              "      box-shadow: 0px 1px 3px 1px rgba(0, 0, 0, 0.15);\n",
              "      filter: drop-shadow(0px 1px 2px rgba(0, 0, 0, 0.3));\n",
              "      fill: #FFFFFF;\n",
              "    }\n",
              "  </style>\n",
              "\n",
              "      <script>\n",
              "        const buttonEl =\n",
              "          document.querySelector('#df-4005c215-3d76-481b-8efb-e16c17c5d563 button.colab-df-convert');\n",
              "        buttonEl.style.display =\n",
              "          google.colab.kernel.accessAllowed ? 'block' : 'none';\n",
              "\n",
              "        async function convertToInteractive(key) {\n",
              "          const element = document.querySelector('#df-4005c215-3d76-481b-8efb-e16c17c5d563');\n",
              "          const dataTable =\n",
              "            await google.colab.kernel.invokeFunction('convertToInteractive',\n",
              "                                                     [key], {});\n",
              "          if (!dataTable) return;\n",
              "\n",
              "          const docLinkHtml = 'Like what you see? Visit the ' +\n",
              "            '<a target=\"_blank\" href=https://colab.research.google.com/notebooks/data_table.ipynb>data table notebook</a>'\n",
              "            + ' to learn more about interactive tables.';\n",
              "          element.innerHTML = '';\n",
              "          dataTable['output_type'] = 'display_data';\n",
              "          await google.colab.output.renderOutput(dataTable, element);\n",
              "          const docLink = document.createElement('div');\n",
              "          docLink.innerHTML = docLinkHtml;\n",
              "          element.appendChild(docLink);\n",
              "        }\n",
              "      </script>\n",
              "    </div>\n",
              "  </div>\n",
              "  "
            ]
          },
          "metadata": {},
          "execution_count": 18
        }
      ]
    },
    {
      "cell_type": "code",
      "source": [
        "print(df.groupby(['Stability']).agg({\"Stability\": \"count\"}), end=\"\\n\\n\\n\")"
      ],
      "metadata": {
        "colab": {
          "base_uri": "https://localhost:8080/"
        },
        "id": "JRLkjs1R2_7y",
        "outputId": "9c146642-d258-45ad-f18d-98be60ac0ea6"
      },
      "execution_count": 19,
      "outputs": [
        {
          "output_type": "stream",
          "name": "stdout",
          "text": [
            "           Stability\n",
            "Stability           \n",
            "Failed           337\n",
            "Intact           337\n",
            "\n",
            "\n"
          ]
        }
      ]
    },
    {
      "cell_type": "markdown",
      "source": [
        "##Label Encoding"
      ],
      "metadata": {
        "id": "xDEGW3E7JxTW"
      }
    },
    {
      "cell_type": "code",
      "source": [
        "#Split dataset menjadi feature (X) dan label (y)\n",
        "y = df['Stability']\n",
        "X = df.drop(columns=['Stability'])"
      ],
      "metadata": {
        "id": "gfe_Qhgo__b1"
      },
      "execution_count": 20,
      "outputs": []
    },
    {
      "cell_type": "code",
      "source": [
        "le = LabelEncoder()\n",
        "y = le.fit_transform(y)"
      ],
      "metadata": {
        "id": "QFuZzxGaAJjF"
      },
      "execution_count": 21,
      "outputs": []
    },
    {
      "cell_type": "code",
      "source": [
        "dictionary={}\n",
        "for i in range(len(list(le.classes_))):\n",
        "  dictionary[list(le.classes_)[i]]=i\n",
        "dictionary"
      ],
      "metadata": {
        "colab": {
          "base_uri": "https://localhost:8080/"
        },
        "id": "03niHLRGATeL",
        "outputId": "e3a28a78-284e-4513-d5fb-14903ad67b9d"
      },
      "execution_count": 22,
      "outputs": [
        {
          "output_type": "execute_result",
          "data": {
            "text/plain": [
              "{'Failed': 0, 'Intact': 1}"
            ]
          },
          "metadata": {},
          "execution_count": 22
        }
      ]
    },
    {
      "cell_type": "markdown",
      "source": [
        "##Split Dataset (Train - Val - Test)"
      ],
      "metadata": {
        "id": "SevU4vcbkiGZ"
      }
    },
    {
      "cell_type": "markdown",
      "source": [
        "**Train - Test Split**"
      ],
      "metadata": {
        "id": "4ww6_lfufasU"
      }
    },
    {
      "cell_type": "code",
      "source": [
        "#Split train dan test data\n",
        "X_train, X_test, y_train, y_test = train_test_split(X, y, test_size=0.30, random_state=0)"
      ],
      "metadata": {
        "id": "ZtBSX-k3DWJA"
      },
      "execution_count": 121,
      "outputs": []
    },
    {
      "cell_type": "markdown",
      "source": [
        "**Train - Val - Test Split**"
      ],
      "metadata": {
        "id": "p8hw-9yYfdue"
      }
    },
    {
      "cell_type": "code",
      "source": [
        "# In the first step we will split the data in training and remaining dataset\n",
        "X_train, X_rem, y_train, y_rem = train_test_split(X,y, train_size=0.8)\n",
        "\n",
        "# Now since we want the valid and test size to be equal (10% each of overall data). \n",
        "# we have to define valid_size=0.5 (that is 50% of remaining data)\n",
        "test_size = 0.5\n",
        "X_valid, X_test, y_valid, y_test = train_test_split(X_rem,y_rem, test_size=0.5)"
      ],
      "metadata": {
        "id": "S_QuaSt9fdbV"
      },
      "execution_count": 23,
      "outputs": []
    },
    {
      "cell_type": "code",
      "source": [
        "X_train.shape"
      ],
      "metadata": {
        "colab": {
          "base_uri": "https://localhost:8080/"
        },
        "id": "XQFYybLRP8yE",
        "outputId": "ef821792-672c-4027-834a-431253fa9d8c"
      },
      "execution_count": 24,
      "outputs": [
        {
          "output_type": "execute_result",
          "data": {
            "text/plain": [
              "(539, 4)"
            ]
          },
          "metadata": {},
          "execution_count": 24
        }
      ]
    },
    {
      "cell_type": "code",
      "source": [
        "X_valid.shape"
      ],
      "metadata": {
        "colab": {
          "base_uri": "https://localhost:8080/"
        },
        "id": "5KCB08IvfsVU",
        "outputId": "33c31656-6955-4577-c122-3ef672e04947"
      },
      "execution_count": 25,
      "outputs": [
        {
          "output_type": "execute_result",
          "data": {
            "text/plain": [
              "(67, 4)"
            ]
          },
          "metadata": {},
          "execution_count": 25
        }
      ]
    },
    {
      "cell_type": "code",
      "source": [
        "X_test.shape"
      ],
      "metadata": {
        "colab": {
          "base_uri": "https://localhost:8080/"
        },
        "id": "qdVX-ee0biZt",
        "outputId": "dabb41d5-e76e-47c9-f34c-fcaf9acd4d22"
      },
      "execution_count": 26,
      "outputs": [
        {
          "output_type": "execute_result",
          "data": {
            "text/plain": [
              "(68, 4)"
            ]
          },
          "metadata": {},
          "execution_count": 26
        }
      ]
    },
    {
      "cell_type": "code",
      "source": [
        "X_train"
      ],
      "metadata": {
        "colab": {
          "base_uri": "https://localhost:8080/",
          "height": 424
        },
        "id": "CTeEHqAitUj9",
        "outputId": "1d19ed79-3eed-421c-e23e-5ecf1235835e"
      },
      "execution_count": 27,
      "outputs": [
        {
          "output_type": "execute_result",
          "data": {
            "text/plain": [
              "      Depth     PW    BW    MH\n",
              "8     42.00   4.50  5.50  2.00\n",
              "641   86.40   7.50  6.50  4.60\n",
              "551  104.00  12.00  6.00  3.00\n",
              "43   104.00  12.00  6.00  3.00\n",
              "244   61.50   9.26  6.00  1.98\n",
              "..      ...    ...   ...   ...\n",
              "105   19.40   4.26  5.22  1.40\n",
              "99    26.83   2.91  5.09  1.33\n",
              "22   165.70  15.00  5.00  5.94\n",
              "664   51.50   6.00  6.00  3.90\n",
              "264   68.00  11.66  6.34  3.40\n",
              "\n",
              "[539 rows x 4 columns]"
            ],
            "text/html": [
              "\n",
              "  <div id=\"df-8935764c-af18-4cb6-9f04-c411716793db\">\n",
              "    <div class=\"colab-df-container\">\n",
              "      <div>\n",
              "<style scoped>\n",
              "    .dataframe tbody tr th:only-of-type {\n",
              "        vertical-align: middle;\n",
              "    }\n",
              "\n",
              "    .dataframe tbody tr th {\n",
              "        vertical-align: top;\n",
              "    }\n",
              "\n",
              "    .dataframe thead th {\n",
              "        text-align: right;\n",
              "    }\n",
              "</style>\n",
              "<table border=\"1\" class=\"dataframe\">\n",
              "  <thead>\n",
              "    <tr style=\"text-align: right;\">\n",
              "      <th></th>\n",
              "      <th>Depth</th>\n",
              "      <th>PW</th>\n",
              "      <th>BW</th>\n",
              "      <th>MH</th>\n",
              "    </tr>\n",
              "  </thead>\n",
              "  <tbody>\n",
              "    <tr>\n",
              "      <th>8</th>\n",
              "      <td>42.00</td>\n",
              "      <td>4.50</td>\n",
              "      <td>5.50</td>\n",
              "      <td>2.00</td>\n",
              "    </tr>\n",
              "    <tr>\n",
              "      <th>641</th>\n",
              "      <td>86.40</td>\n",
              "      <td>7.50</td>\n",
              "      <td>6.50</td>\n",
              "      <td>4.60</td>\n",
              "    </tr>\n",
              "    <tr>\n",
              "      <th>551</th>\n",
              "      <td>104.00</td>\n",
              "      <td>12.00</td>\n",
              "      <td>6.00</td>\n",
              "      <td>3.00</td>\n",
              "    </tr>\n",
              "    <tr>\n",
              "      <th>43</th>\n",
              "      <td>104.00</td>\n",
              "      <td>12.00</td>\n",
              "      <td>6.00</td>\n",
              "      <td>3.00</td>\n",
              "    </tr>\n",
              "    <tr>\n",
              "      <th>244</th>\n",
              "      <td>61.50</td>\n",
              "      <td>9.26</td>\n",
              "      <td>6.00</td>\n",
              "      <td>1.98</td>\n",
              "    </tr>\n",
              "    <tr>\n",
              "      <th>...</th>\n",
              "      <td>...</td>\n",
              "      <td>...</td>\n",
              "      <td>...</td>\n",
              "      <td>...</td>\n",
              "    </tr>\n",
              "    <tr>\n",
              "      <th>105</th>\n",
              "      <td>19.40</td>\n",
              "      <td>4.26</td>\n",
              "      <td>5.22</td>\n",
              "      <td>1.40</td>\n",
              "    </tr>\n",
              "    <tr>\n",
              "      <th>99</th>\n",
              "      <td>26.83</td>\n",
              "      <td>2.91</td>\n",
              "      <td>5.09</td>\n",
              "      <td>1.33</td>\n",
              "    </tr>\n",
              "    <tr>\n",
              "      <th>22</th>\n",
              "      <td>165.70</td>\n",
              "      <td>15.00</td>\n",
              "      <td>5.00</td>\n",
              "      <td>5.94</td>\n",
              "    </tr>\n",
              "    <tr>\n",
              "      <th>664</th>\n",
              "      <td>51.50</td>\n",
              "      <td>6.00</td>\n",
              "      <td>6.00</td>\n",
              "      <td>3.90</td>\n",
              "    </tr>\n",
              "    <tr>\n",
              "      <th>264</th>\n",
              "      <td>68.00</td>\n",
              "      <td>11.66</td>\n",
              "      <td>6.34</td>\n",
              "      <td>3.40</td>\n",
              "    </tr>\n",
              "  </tbody>\n",
              "</table>\n",
              "<p>539 rows × 4 columns</p>\n",
              "</div>\n",
              "      <button class=\"colab-df-convert\" onclick=\"convertToInteractive('df-8935764c-af18-4cb6-9f04-c411716793db')\"\n",
              "              title=\"Convert this dataframe to an interactive table.\"\n",
              "              style=\"display:none;\">\n",
              "        \n",
              "  <svg xmlns=\"http://www.w3.org/2000/svg\" height=\"24px\"viewBox=\"0 0 24 24\"\n",
              "       width=\"24px\">\n",
              "    <path d=\"M0 0h24v24H0V0z\" fill=\"none\"/>\n",
              "    <path d=\"M18.56 5.44l.94 2.06.94-2.06 2.06-.94-2.06-.94-.94-2.06-.94 2.06-2.06.94zm-11 1L8.5 8.5l.94-2.06 2.06-.94-2.06-.94L8.5 2.5l-.94 2.06-2.06.94zm10 10l.94 2.06.94-2.06 2.06-.94-2.06-.94-.94-2.06-.94 2.06-2.06.94z\"/><path d=\"M17.41 7.96l-1.37-1.37c-.4-.4-.92-.59-1.43-.59-.52 0-1.04.2-1.43.59L10.3 9.45l-7.72 7.72c-.78.78-.78 2.05 0 2.83L4 21.41c.39.39.9.59 1.41.59.51 0 1.02-.2 1.41-.59l7.78-7.78 2.81-2.81c.8-.78.8-2.07 0-2.86zM5.41 20L4 18.59l7.72-7.72 1.47 1.35L5.41 20z\"/>\n",
              "  </svg>\n",
              "      </button>\n",
              "      \n",
              "  <style>\n",
              "    .colab-df-container {\n",
              "      display:flex;\n",
              "      flex-wrap:wrap;\n",
              "      gap: 12px;\n",
              "    }\n",
              "\n",
              "    .colab-df-convert {\n",
              "      background-color: #E8F0FE;\n",
              "      border: none;\n",
              "      border-radius: 50%;\n",
              "      cursor: pointer;\n",
              "      display: none;\n",
              "      fill: #1967D2;\n",
              "      height: 32px;\n",
              "      padding: 0 0 0 0;\n",
              "      width: 32px;\n",
              "    }\n",
              "\n",
              "    .colab-df-convert:hover {\n",
              "      background-color: #E2EBFA;\n",
              "      box-shadow: 0px 1px 2px rgba(60, 64, 67, 0.3), 0px 1px 3px 1px rgba(60, 64, 67, 0.15);\n",
              "      fill: #174EA6;\n",
              "    }\n",
              "\n",
              "    [theme=dark] .colab-df-convert {\n",
              "      background-color: #3B4455;\n",
              "      fill: #D2E3FC;\n",
              "    }\n",
              "\n",
              "    [theme=dark] .colab-df-convert:hover {\n",
              "      background-color: #434B5C;\n",
              "      box-shadow: 0px 1px 3px 1px rgba(0, 0, 0, 0.15);\n",
              "      filter: drop-shadow(0px 1px 2px rgba(0, 0, 0, 0.3));\n",
              "      fill: #FFFFFF;\n",
              "    }\n",
              "  </style>\n",
              "\n",
              "      <script>\n",
              "        const buttonEl =\n",
              "          document.querySelector('#df-8935764c-af18-4cb6-9f04-c411716793db button.colab-df-convert');\n",
              "        buttonEl.style.display =\n",
              "          google.colab.kernel.accessAllowed ? 'block' : 'none';\n",
              "\n",
              "        async function convertToInteractive(key) {\n",
              "          const element = document.querySelector('#df-8935764c-af18-4cb6-9f04-c411716793db');\n",
              "          const dataTable =\n",
              "            await google.colab.kernel.invokeFunction('convertToInteractive',\n",
              "                                                     [key], {});\n",
              "          if (!dataTable) return;\n",
              "\n",
              "          const docLinkHtml = 'Like what you see? Visit the ' +\n",
              "            '<a target=\"_blank\" href=https://colab.research.google.com/notebooks/data_table.ipynb>data table notebook</a>'\n",
              "            + ' to learn more about interactive tables.';\n",
              "          element.innerHTML = '';\n",
              "          dataTable['output_type'] = 'display_data';\n",
              "          await google.colab.output.renderOutput(dataTable, element);\n",
              "          const docLink = document.createElement('div');\n",
              "          docLink.innerHTML = docLinkHtml;\n",
              "          element.appendChild(docLink);\n",
              "        }\n",
              "      </script>\n",
              "    </div>\n",
              "  </div>\n",
              "  "
            ]
          },
          "metadata": {},
          "execution_count": 27
        }
      ]
    },
    {
      "cell_type": "code",
      "source": [
        "y_train"
      ],
      "metadata": {
        "colab": {
          "base_uri": "https://localhost:8080/"
        },
        "id": "1DSxRfUqtSoa",
        "outputId": "54858a05-c275-4932-da19-05054fc15d40"
      },
      "execution_count": 28,
      "outputs": [
        {
          "output_type": "execute_result",
          "data": {
            "text/plain": [
              "array([0, 0, 0, 0, 1, 0, 0, 0, 1, 1, 0, 0, 0, 1, 0, 0, 0, 0, 1, 0, 0, 0,\n",
              "       1, 1, 0, 0, 1, 1, 1, 0, 0, 1, 1, 0, 1, 1, 1, 0, 0, 1, 1, 1, 1, 0,\n",
              "       1, 1, 1, 0, 1, 1, 0, 0, 1, 0, 1, 0, 0, 0, 1, 0, 1, 0, 1, 1, 1, 1,\n",
              "       0, 0, 1, 0, 1, 1, 0, 0, 1, 0, 1, 0, 0, 1, 0, 1, 0, 0, 1, 0, 0, 1,\n",
              "       1, 0, 0, 0, 1, 0, 0, 1, 1, 0, 1, 0, 0, 1, 1, 0, 0, 0, 1, 0, 0, 0,\n",
              "       1, 1, 0, 1, 0, 1, 0, 0, 0, 1, 0, 1, 0, 1, 0, 1, 1, 0, 1, 1, 1, 1,\n",
              "       0, 0, 1, 0, 0, 0, 1, 1, 1, 1, 1, 1, 0, 1, 0, 1, 0, 0, 1, 1, 0, 0,\n",
              "       0, 0, 1, 1, 1, 0, 1, 0, 1, 0, 0, 1, 1, 0, 0, 1, 1, 0, 1, 1, 0, 0,\n",
              "       0, 0, 1, 0, 0, 0, 1, 1, 1, 0, 1, 1, 0, 0, 0, 0, 1, 1, 0, 1, 1, 1,\n",
              "       0, 0, 0, 0, 0, 0, 0, 1, 0, 0, 0, 0, 1, 1, 1, 0, 0, 0, 1, 0, 0, 0,\n",
              "       0, 0, 1, 0, 0, 0, 1, 0, 0, 1, 1, 1, 1, 1, 1, 0, 0, 0, 1, 0, 0, 0,\n",
              "       1, 1, 1, 1, 1, 1, 1, 1, 1, 1, 1, 0, 0, 0, 0, 1, 0, 1, 0, 0, 0, 0,\n",
              "       1, 1, 1, 1, 0, 1, 0, 0, 1, 1, 0, 0, 0, 1, 1, 1, 1, 0, 1, 1, 1, 1,\n",
              "       1, 1, 0, 1, 1, 1, 0, 0, 0, 1, 0, 0, 1, 0, 1, 0, 1, 1, 0, 0, 1, 0,\n",
              "       1, 1, 0, 0, 0, 0, 1, 1, 0, 0, 1, 0, 0, 1, 0, 1, 0, 1, 0, 1, 1, 0,\n",
              "       0, 1, 0, 0, 0, 1, 1, 0, 1, 1, 0, 0, 1, 1, 1, 1, 1, 0, 1, 1, 1, 0,\n",
              "       1, 0, 1, 1, 1, 0, 1, 0, 1, 0, 0, 1, 0, 0, 0, 0, 0, 0, 0, 0, 0, 1,\n",
              "       1, 1, 0, 0, 0, 1, 1, 0, 1, 1, 1, 1, 1, 0, 1, 1, 1, 1, 1, 1, 0, 0,\n",
              "       1, 0, 0, 1, 1, 1, 0, 1, 0, 0, 0, 1, 1, 1, 0, 1, 1, 1, 1, 0, 1, 1,\n",
              "       0, 0, 0, 0, 0, 0, 1, 1, 0, 1, 0, 1, 0, 0, 0, 0, 1, 0, 0, 0, 1, 1,\n",
              "       0, 0, 0, 1, 0, 0, 1, 0, 0, 0, 1, 0, 0, 0, 1, 1, 1, 1, 1, 1, 1, 1,\n",
              "       0, 1, 0, 1, 1, 0, 0, 1, 1, 0, 1, 0, 1, 0, 0, 0, 1, 1, 1, 1, 1, 0,\n",
              "       1, 0, 1, 1, 0, 1, 0, 1, 0, 1, 1, 1, 0, 0, 1, 1, 0, 0, 1, 0, 0, 0,\n",
              "       0, 0, 0, 1, 0, 0, 1, 1, 0, 1, 0, 1, 0, 0, 0, 0, 0, 0, 0, 0, 1, 0,\n",
              "       0, 1, 0, 0, 0, 1, 1, 1, 0, 0, 1])"
            ]
          },
          "metadata": {},
          "execution_count": 28
        }
      ]
    },
    {
      "cell_type": "markdown",
      "source": [
        "#**Build Model**"
      ],
      "metadata": {
        "id": "wuGgHL2ZDmUV"
      }
    },
    {
      "cell_type": "code",
      "source": [
        "adam = Adam(learning_rate=0.001)"
      ],
      "metadata": {
        "id": "v6tqFfbXUNZJ"
      },
      "execution_count": 29,
      "outputs": []
    },
    {
      "cell_type": "code",
      "source": [
        "#Callback\n",
        "callback = EarlyStopping(\n",
        "    monitor=\"val_loss\",\n",
        "    patience=10,\n",
        "    restore_best_weights=True,\n",
        "    mode='auto'\n",
        ")"
      ],
      "metadata": {
        "id": "I8TjODiSOLEu"
      },
      "execution_count": 30,
      "outputs": []
    },
    {
      "cell_type": "markdown",
      "source": [
        "##Model 1 (Activation function: Linear)"
      ],
      "metadata": {
        "id": "SngpqzcnDpBf"
      }
    },
    {
      "cell_type": "code",
      "source": [
        "model_1 = tf.keras.models.Sequential([\n",
        "                                    tf.keras.layers.Dense(512, input_shape=[4],activation=tf.keras.activations.linear),\n",
        "                                    tf.keras.layers.Dense(256, activation=tf.keras.activations.linear),\n",
        "                                    tf.keras.layers.Dense(256, activation=tf.keras.activations.linear),\n",
        "                                    tf.keras.layers.Dense(128, activation=tf.keras.activations.linear),\n",
        "                                    tf.keras.layers.Dense(1, activation=tf.nn.sigmoid)\n",
        "                                    ])"
      ],
      "metadata": {
        "id": "qK4OTL56x73y"
      },
      "execution_count": 31,
      "outputs": []
    },
    {
      "cell_type": "code",
      "source": [
        "model_1.compile(loss=\"binary_crossentropy\",optimizer=adam,metrics=['accuracy'])"
      ],
      "metadata": {
        "id": "kufUl54L2YEK"
      },
      "execution_count": 32,
      "outputs": []
    },
    {
      "cell_type": "code",
      "source": [
        "model_1.summary()"
      ],
      "metadata": {
        "colab": {
          "base_uri": "https://localhost:8080/"
        },
        "outputId": "46b862de-9284-4524-a184-6c201ba9337e",
        "id": "u3usHijX2YEM"
      },
      "execution_count": 204,
      "outputs": [
        {
          "output_type": "stream",
          "name": "stdout",
          "text": [
            "Model: \"sequential_21\"\n",
            "_________________________________________________________________\n",
            " Layer (type)                Output Shape              Param #   \n",
            "=================================================================\n",
            " dense_97 (Dense)            (None, 512)               2560      \n",
            "                                                                 \n",
            " dense_98 (Dense)            (None, 256)               131328    \n",
            "                                                                 \n",
            " dense_99 (Dense)            (None, 256)               65792     \n",
            "                                                                 \n",
            " dense_100 (Dense)           (None, 128)               32896     \n",
            "                                                                 \n",
            " dense_101 (Dense)           (None, 1)                 129       \n",
            "                                                                 \n",
            "=================================================================\n",
            "Total params: 232,705\n",
            "Trainable params: 232,705\n",
            "Non-trainable params: 0\n",
            "_________________________________________________________________\n"
          ]
        }
      ]
    },
    {
      "cell_type": "code",
      "source": [
        "history = model_1.fit(X_train, y_train, validation_data = (X_valid,y_valid), batch_size=16, epochs=400, callbacks=callback,  verbose=1)"
      ],
      "metadata": {
        "colab": {
          "base_uri": "https://localhost:8080/"
        },
        "outputId": "6976ea80-3476-4d3e-95e1-34cb161acc85",
        "id": "7alC3JPe2YEN"
      },
      "execution_count": 33,
      "outputs": [
        {
          "output_type": "stream",
          "name": "stdout",
          "text": [
            "Epoch 1/400\n",
            "34/34 [==============================] - 1s 12ms/step - loss: 2.9585 - accuracy: 0.5417 - val_loss: 1.0591 - val_accuracy: 0.5075\n",
            "Epoch 2/400\n",
            "34/34 [==============================] - 0s 5ms/step - loss: 0.6224 - accuracy: 0.6642 - val_loss: 0.6506 - val_accuracy: 0.6567\n",
            "Epoch 3/400\n",
            "34/34 [==============================] - 0s 5ms/step - loss: 0.6947 - accuracy: 0.6605 - val_loss: 0.7133 - val_accuracy: 0.6269\n",
            "Epoch 4/400\n",
            "34/34 [==============================] - 0s 5ms/step - loss: 0.6540 - accuracy: 0.6475 - val_loss: 0.5991 - val_accuracy: 0.6418\n",
            "Epoch 5/400\n",
            "34/34 [==============================] - 0s 5ms/step - loss: 0.6491 - accuracy: 0.6827 - val_loss: 0.6527 - val_accuracy: 0.6418\n",
            "Epoch 6/400\n",
            "34/34 [==============================] - 0s 7ms/step - loss: 0.5613 - accuracy: 0.7328 - val_loss: 0.5882 - val_accuracy: 0.6716\n",
            "Epoch 7/400\n",
            "34/34 [==============================] - 0s 6ms/step - loss: 0.5725 - accuracy: 0.7254 - val_loss: 0.5640 - val_accuracy: 0.6866\n",
            "Epoch 8/400\n",
            "34/34 [==============================] - 0s 6ms/step - loss: 0.5773 - accuracy: 0.7180 - val_loss: 0.6193 - val_accuracy: 0.6866\n",
            "Epoch 9/400\n",
            "34/34 [==============================] - 0s 6ms/step - loss: 0.5774 - accuracy: 0.7217 - val_loss: 0.5535 - val_accuracy: 0.7015\n",
            "Epoch 10/400\n",
            "34/34 [==============================] - 0s 5ms/step - loss: 0.5478 - accuracy: 0.7273 - val_loss: 0.5923 - val_accuracy: 0.6567\n",
            "Epoch 11/400\n",
            "34/34 [==============================] - 0s 5ms/step - loss: 0.5319 - accuracy: 0.7328 - val_loss: 0.5879 - val_accuracy: 0.6418\n",
            "Epoch 12/400\n",
            "34/34 [==============================] - 0s 6ms/step - loss: 0.5204 - accuracy: 0.7421 - val_loss: 0.6751 - val_accuracy: 0.6866\n",
            "Epoch 13/400\n",
            "34/34 [==============================] - 0s 6ms/step - loss: 0.5371 - accuracy: 0.7384 - val_loss: 0.5707 - val_accuracy: 0.6716\n",
            "Epoch 14/400\n",
            "34/34 [==============================] - 0s 6ms/step - loss: 0.6837 - accuracy: 0.6976 - val_loss: 0.8300 - val_accuracy: 0.5970\n",
            "Epoch 15/400\n",
            "34/34 [==============================] - 0s 6ms/step - loss: 0.5273 - accuracy: 0.7514 - val_loss: 0.5541 - val_accuracy: 0.6567\n",
            "Epoch 16/400\n",
            "34/34 [==============================] - 0s 6ms/step - loss: 0.5033 - accuracy: 0.7458 - val_loss: 0.6736 - val_accuracy: 0.6567\n",
            "Epoch 17/400\n",
            "34/34 [==============================] - 0s 6ms/step - loss: 0.5076 - accuracy: 0.7607 - val_loss: 0.6185 - val_accuracy: 0.6567\n",
            "Epoch 18/400\n",
            "34/34 [==============================] - 0s 6ms/step - loss: 0.5458 - accuracy: 0.7421 - val_loss: 0.5504 - val_accuracy: 0.6866\n",
            "Epoch 19/400\n",
            "34/34 [==============================] - 0s 5ms/step - loss: 0.5515 - accuracy: 0.7403 - val_loss: 0.5974 - val_accuracy: 0.7164\n",
            "Epoch 20/400\n",
            "34/34 [==============================] - 0s 6ms/step - loss: 0.5596 - accuracy: 0.7291 - val_loss: 0.6513 - val_accuracy: 0.6418\n",
            "Epoch 21/400\n",
            "34/34 [==============================] - 0s 6ms/step - loss: 0.4999 - accuracy: 0.7347 - val_loss: 0.5684 - val_accuracy: 0.6716\n",
            "Epoch 22/400\n",
            "34/34 [==============================] - 0s 6ms/step - loss: 0.4975 - accuracy: 0.7570 - val_loss: 0.5989 - val_accuracy: 0.7164\n",
            "Epoch 23/400\n",
            "34/34 [==============================] - 0s 6ms/step - loss: 0.5296 - accuracy: 0.7217 - val_loss: 0.9012 - val_accuracy: 0.5821\n",
            "Epoch 24/400\n",
            "34/34 [==============================] - 0s 6ms/step - loss: 0.5258 - accuracy: 0.7365 - val_loss: 0.6265 - val_accuracy: 0.6567\n",
            "Epoch 25/400\n",
            "34/34 [==============================] - 0s 6ms/step - loss: 0.5008 - accuracy: 0.7347 - val_loss: 0.5868 - val_accuracy: 0.6567\n",
            "Epoch 26/400\n",
            "34/34 [==============================] - 0s 6ms/step - loss: 0.4966 - accuracy: 0.7588 - val_loss: 0.5484 - val_accuracy: 0.6866\n",
            "Epoch 27/400\n",
            "34/34 [==============================] - 0s 6ms/step - loss: 0.5124 - accuracy: 0.7310 - val_loss: 0.5466 - val_accuracy: 0.6866\n",
            "Epoch 28/400\n",
            "34/34 [==============================] - 0s 6ms/step - loss: 0.5002 - accuracy: 0.7458 - val_loss: 0.5491 - val_accuracy: 0.6418\n",
            "Epoch 29/400\n",
            "34/34 [==============================] - 0s 6ms/step - loss: 0.5338 - accuracy: 0.7495 - val_loss: 0.5958 - val_accuracy: 0.6567\n",
            "Epoch 30/400\n",
            "34/34 [==============================] - 0s 6ms/step - loss: 0.6029 - accuracy: 0.7199 - val_loss: 0.5896 - val_accuracy: 0.7164\n",
            "Epoch 31/400\n",
            "34/34 [==============================] - 0s 6ms/step - loss: 0.5052 - accuracy: 0.7477 - val_loss: 0.5904 - val_accuracy: 0.6866\n",
            "Epoch 32/400\n",
            "34/34 [==============================] - 0s 6ms/step - loss: 0.5240 - accuracy: 0.7254 - val_loss: 0.5445 - val_accuracy: 0.6716\n",
            "Epoch 33/400\n",
            "34/34 [==============================] - 0s 6ms/step - loss: 0.5614 - accuracy: 0.7143 - val_loss: 0.8250 - val_accuracy: 0.6119\n",
            "Epoch 34/400\n",
            "34/34 [==============================] - 0s 5ms/step - loss: 0.5144 - accuracy: 0.7403 - val_loss: 0.5667 - val_accuracy: 0.6716\n",
            "Epoch 35/400\n",
            "34/34 [==============================] - 0s 6ms/step - loss: 0.4952 - accuracy: 0.7458 - val_loss: 0.5524 - val_accuracy: 0.6567\n",
            "Epoch 36/400\n",
            "34/34 [==============================] - 0s 6ms/step - loss: 0.4921 - accuracy: 0.7607 - val_loss: 0.5631 - val_accuracy: 0.6866\n",
            "Epoch 37/400\n",
            "34/34 [==============================] - 0s 6ms/step - loss: 0.4951 - accuracy: 0.7347 - val_loss: 0.5507 - val_accuracy: 0.6716\n",
            "Epoch 38/400\n",
            "34/34 [==============================] - 0s 6ms/step - loss: 0.5304 - accuracy: 0.7217 - val_loss: 0.6350 - val_accuracy: 0.6716\n",
            "Epoch 39/400\n",
            "34/34 [==============================] - 0s 6ms/step - loss: 0.5545 - accuracy: 0.7403 - val_loss: 0.5935 - val_accuracy: 0.7313\n",
            "Epoch 40/400\n",
            "34/34 [==============================] - 0s 5ms/step - loss: 0.5587 - accuracy: 0.7180 - val_loss: 0.7359 - val_accuracy: 0.6567\n",
            "Epoch 41/400\n",
            "34/34 [==============================] - 0s 6ms/step - loss: 0.5237 - accuracy: 0.7440 - val_loss: 0.5628 - val_accuracy: 0.6716\n",
            "Epoch 42/400\n",
            "34/34 [==============================] - 0s 6ms/step - loss: 0.5280 - accuracy: 0.7365 - val_loss: 0.6013 - val_accuracy: 0.6716\n"
          ]
        }
      ]
    },
    {
      "cell_type": "code",
      "source": [
        "# Visualize Loss & Accuracy\n",
        "%matplotlib inline\n",
        "import matplotlib.pyplot as plt\n",
        "acc = history.history['accuracy']\n",
        "loss = history.history['loss']\n",
        "val_acc=history.history['val_accuracy']\n",
        "val_loss=history.history['val_loss']\n",
        "\n",
        "epochs = range(len(acc))\n",
        "\n",
        "plt.plot(epochs, acc, 'r', label='Training accuracy')\n",
        "plt.plot(epochs, val_acc, 'b', label='Validation accuracy')\n",
        "plt.title('Training accuracy')\n",
        "plt.legend()\n",
        "plt.figure()\n",
        "\n",
        "plt.plot(epochs, loss, 'r', label='Training Loss')\n",
        "plt.plot(epochs, val_loss, 'b', label='Validation Loss')\n",
        "plt.title('Training loss')\n",
        "plt.legend()\n",
        "\n",
        "plt.show()"
      ],
      "metadata": {
        "colab": {
          "base_uri": "https://localhost:8080/",
          "height": 545
        },
        "outputId": "f2a932b5-77ab-42d1-8e5a-c105a147a181",
        "id": "ZgHGUcncTxTv"
      },
      "execution_count": 35,
      "outputs": [
        {
          "output_type": "display_data",
          "data": {
            "text/plain": [
              "<Figure size 432x288 with 1 Axes>"
            ],
            "image/png": "[encoded data removed]"
          },
          "metadata": {
            "needs_background": "light"
          }
        },
        {
          "output_type": "display_data",
          "data": {
            "text/plain": [
              "<Figure size 432x288 with 1 Axes>"
            ],
            "image/png": "[encoded data removed]"
          },
          "metadata": {
            "needs_background": "light"
          }
        }
      ]
    },
    {
      "cell_type": "code",
      "source": [
        "model_1.evaluate(X_test, y_test)"
      ],
      "metadata": {
        "colab": {
          "base_uri": "https://localhost:8080/"
        },
        "id": "dRL8Vx3-g2Ds",
        "outputId": "3bfc11c8-f898-40d9-fef5-6877272238dd"
      },
      "execution_count": 36,
      "outputs": [
        {
          "output_type": "stream",
          "name": "stdout",
          "text": [
            "3/3 [==============================] - 0s 5ms/step - loss: 0.5204 - accuracy: 0.7206\n"
          ]
        },
        {
          "output_type": "execute_result",
          "data": {
            "text/plain": [
              "[0.5204317569732666, 0.720588207244873]"
            ]
          },
          "metadata": {},
          "execution_count": 36
        }
      ]
    },
    {
      "cell_type": "markdown",
      "source": [
        "##Model 2 (Activation function: ReLU)"
      ],
      "metadata": {
        "id": "DNRTMw9bx8W0"
      }
    },
    {
      "cell_type": "code",
      "source": [
        "model_2 = tf.keras.models.Sequential([\n",
        "                                    tf.keras.layers.Dense(512, input_shape=[4],activation=tf.nn.relu),\n",
        "                                    tf.keras.layers.Dense(256, activation=tf.nn.relu),\n",
        "                                    tf.keras.layers.Dense(256, activation=tf.nn.relu),\n",
        "                                    tf.keras.layers.Dense(128, activation=tf.nn.relu),\n",
        "                                    tf.keras.layers.Dense(1, activation=tf.nn.sigmoid)\n",
        "                                    ])"
      ],
      "metadata": {
        "id": "LevK5x1CuIoC"
      },
      "execution_count": 37,
      "outputs": []
    },
    {
      "cell_type": "code",
      "source": [
        "model_2.compile(loss=\"binary_crossentropy\",optimizer=adam,metrics=['accuracy'])"
      ],
      "metadata": {
        "id": "URhAlPk_e-Ta"
      },
      "execution_count": 38,
      "outputs": []
    },
    {
      "cell_type": "code",
      "source": [
        "model_2.summary()"
      ],
      "metadata": {
        "id": "sQvNNHKU7fyj"
      },
      "execution_count": null,
      "outputs": []
    },
    {
      "cell_type": "code",
      "source": [
        "history = model_2.fit(X_train, y_train, validation_data = (X_valid,y_valid), batch_size=16, epochs=400, callbacks=callback, verbose=1)"
      ],
      "metadata": {
        "id": "AyK-OiQBfOVU",
        "colab": {
          "base_uri": "https://localhost:8080/"
        },
        "outputId": "e02003a3-927c-4a28-8d6e-8b9307c16dfc"
      },
      "execution_count": 39,
      "outputs": [
        {
          "output_type": "stream",
          "name": "stdout",
          "text": [
            "Epoch 1/400\n",
            "34/34 [==============================] - 1s 11ms/step - loss: 1.3005 - accuracy: 0.5362 - val_loss: 0.6953 - val_accuracy: 0.4925\n",
            "Epoch 2/400\n",
            "34/34 [==============================] - 0s 5ms/step - loss: 0.6641 - accuracy: 0.6104 - val_loss: 0.8256 - val_accuracy: 0.5224\n",
            "Epoch 3/400\n",
            "34/34 [==============================] - 0s 6ms/step - loss: 0.6320 - accuracy: 0.6549 - val_loss: 0.7307 - val_accuracy: 0.5970\n",
            "Epoch 4/400\n",
            "34/34 [==============================] - 0s 6ms/step - loss: 0.5411 - accuracy: 0.7236 - val_loss: 0.5859 - val_accuracy: 0.6418\n",
            "Epoch 5/400\n",
            "34/34 [==============================] - 0s 6ms/step - loss: 0.6015 - accuracy: 0.6735 - val_loss: 0.5575 - val_accuracy: 0.6866\n",
            "Epoch 6/400\n",
            "34/34 [==============================] - 0s 6ms/step - loss: 0.5651 - accuracy: 0.6957 - val_loss: 0.6756 - val_accuracy: 0.5970\n",
            "Epoch 7/400\n",
            "34/34 [==============================] - 0s 6ms/step - loss: 0.5637 - accuracy: 0.7180 - val_loss: 0.5932 - val_accuracy: 0.6269\n",
            "Epoch 8/400\n",
            "34/34 [==============================] - 0s 6ms/step - loss: 0.5087 - accuracy: 0.7328 - val_loss: 0.5371 - val_accuracy: 0.7164\n",
            "Epoch 9/400\n",
            "34/34 [==============================] - 0s 5ms/step - loss: 0.4688 - accuracy: 0.7662 - val_loss: 0.5474 - val_accuracy: 0.7015\n",
            "Epoch 10/400\n",
            "34/34 [==============================] - 0s 6ms/step - loss: 0.4953 - accuracy: 0.7403 - val_loss: 0.5256 - val_accuracy: 0.7015\n",
            "Epoch 11/400\n",
            "34/34 [==============================] - 0s 6ms/step - loss: 0.4815 - accuracy: 0.7421 - val_loss: 0.5353 - val_accuracy: 0.7164\n",
            "Epoch 12/400\n",
            "34/34 [==============================] - 0s 6ms/step - loss: 0.4669 - accuracy: 0.7625 - val_loss: 0.5256 - val_accuracy: 0.7015\n",
            "Epoch 13/400\n",
            "34/34 [==============================] - 0s 6ms/step - loss: 0.4590 - accuracy: 0.7570 - val_loss: 0.5365 - val_accuracy: 0.7164\n",
            "Epoch 14/400\n",
            "34/34 [==============================] - 0s 6ms/step - loss: 0.4533 - accuracy: 0.7625 - val_loss: 0.5623 - val_accuracy: 0.7015\n",
            "Epoch 15/400\n",
            "34/34 [==============================] - 0s 6ms/step - loss: 0.4455 - accuracy: 0.7625 - val_loss: 0.5142 - val_accuracy: 0.7313\n",
            "Epoch 16/400\n",
            "34/34 [==============================] - 0s 6ms/step - loss: 0.4487 - accuracy: 0.7644 - val_loss: 0.5403 - val_accuracy: 0.7164\n",
            "Epoch 17/400\n",
            "34/34 [==============================] - 0s 6ms/step - loss: 0.4492 - accuracy: 0.7718 - val_loss: 0.5170 - val_accuracy: 0.7164\n",
            "Epoch 18/400\n",
            "34/34 [==============================] - 0s 6ms/step - loss: 0.4407 - accuracy: 0.7681 - val_loss: 0.5103 - val_accuracy: 0.7164\n",
            "Epoch 19/400\n",
            "34/34 [==============================] - 0s 6ms/step - loss: 0.4151 - accuracy: 0.7978 - val_loss: 0.5325 - val_accuracy: 0.7463\n",
            "Epoch 20/400\n",
            "34/34 [==============================] - 0s 6ms/step - loss: 0.4207 - accuracy: 0.7811 - val_loss: 0.4821 - val_accuracy: 0.7313\n",
            "Epoch 21/400\n",
            "34/34 [==============================] - 0s 6ms/step - loss: 0.4150 - accuracy: 0.7792 - val_loss: 0.4888 - val_accuracy: 0.7761\n",
            "Epoch 22/400\n",
            "34/34 [==============================] - 0s 6ms/step - loss: 0.4261 - accuracy: 0.7774 - val_loss: 0.5105 - val_accuracy: 0.7313\n",
            "Epoch 23/400\n",
            "34/34 [==============================] - 0s 6ms/step - loss: 0.4166 - accuracy: 0.8071 - val_loss: 0.5068 - val_accuracy: 0.6716\n",
            "Epoch 24/400\n",
            "34/34 [==============================] - 0s 7ms/step - loss: 0.4092 - accuracy: 0.7848 - val_loss: 0.4749 - val_accuracy: 0.7313\n",
            "Epoch 25/400\n",
            "34/34 [==============================] - 0s 6ms/step - loss: 0.4296 - accuracy: 0.7922 - val_loss: 0.5015 - val_accuracy: 0.7612\n",
            "Epoch 26/400\n",
            "34/34 [==============================] - 0s 6ms/step - loss: 0.4058 - accuracy: 0.7885 - val_loss: 0.5173 - val_accuracy: 0.7164\n",
            "Epoch 27/400\n",
            "34/34 [==============================] - 0s 6ms/step - loss: 0.4157 - accuracy: 0.7848 - val_loss: 0.4892 - val_accuracy: 0.7463\n",
            "Epoch 28/400\n",
            "34/34 [==============================] - 0s 6ms/step - loss: 0.4124 - accuracy: 0.8071 - val_loss: 0.5477 - val_accuracy: 0.7463\n",
            "Epoch 29/400\n",
            "34/34 [==============================] - 0s 5ms/step - loss: 0.3892 - accuracy: 0.7904 - val_loss: 0.4702 - val_accuracy: 0.7612\n",
            "Epoch 30/400\n",
            "34/34 [==============================] - 0s 6ms/step - loss: 0.4059 - accuracy: 0.8052 - val_loss: 0.4495 - val_accuracy: 0.7910\n",
            "Epoch 31/400\n",
            "34/34 [==============================] - 0s 6ms/step - loss: 0.3893 - accuracy: 0.8126 - val_loss: 0.4605 - val_accuracy: 0.7761\n",
            "Epoch 32/400\n",
            "34/34 [==============================] - 0s 6ms/step - loss: 0.3903 - accuracy: 0.8108 - val_loss: 0.4429 - val_accuracy: 0.7910\n",
            "Epoch 33/400\n",
            "34/34 [==============================] - 0s 6ms/step - loss: 0.3883 - accuracy: 0.7996 - val_loss: 0.4981 - val_accuracy: 0.7761\n",
            "Epoch 34/400\n",
            "34/34 [==============================] - 0s 6ms/step - loss: 0.4169 - accuracy: 0.7978 - val_loss: 0.4675 - val_accuracy: 0.7761\n",
            "Epoch 35/400\n",
            "34/34 [==============================] - 0s 6ms/step - loss: 0.3838 - accuracy: 0.8200 - val_loss: 0.4265 - val_accuracy: 0.7910\n",
            "Epoch 36/400\n",
            "34/34 [==============================] - 0s 6ms/step - loss: 0.3615 - accuracy: 0.8200 - val_loss: 0.4272 - val_accuracy: 0.7910\n",
            "Epoch 37/400\n",
            "34/34 [==============================] - 0s 6ms/step - loss: 0.3663 - accuracy: 0.8182 - val_loss: 0.5069 - val_accuracy: 0.7612\n",
            "Epoch 38/400\n",
            "34/34 [==============================] - 0s 6ms/step - loss: 0.3701 - accuracy: 0.8108 - val_loss: 0.4676 - val_accuracy: 0.8209\n",
            "Epoch 39/400\n",
            "34/34 [==============================] - 0s 5ms/step - loss: 0.3490 - accuracy: 0.8145 - val_loss: 0.4821 - val_accuracy: 0.7612\n",
            "Epoch 40/400\n",
            "34/34 [==============================] - 0s 6ms/step - loss: 0.3742 - accuracy: 0.8330 - val_loss: 0.4833 - val_accuracy: 0.7910\n",
            "Epoch 41/400\n",
            "34/34 [==============================] - 0s 5ms/step - loss: 0.4053 - accuracy: 0.7866 - val_loss: 0.5293 - val_accuracy: 0.7015\n",
            "Epoch 42/400\n",
            "34/34 [==============================] - 0s 6ms/step - loss: 0.3874 - accuracy: 0.8330 - val_loss: 0.4948 - val_accuracy: 0.7463\n",
            "Epoch 43/400\n",
            "34/34 [==============================] - 0s 6ms/step - loss: 0.3962 - accuracy: 0.8052 - val_loss: 0.4913 - val_accuracy: 0.7910\n",
            "Epoch 44/400\n",
            "34/34 [==============================] - 0s 6ms/step - loss: 0.3887 - accuracy: 0.8015 - val_loss: 0.4717 - val_accuracy: 0.7612\n",
            "Epoch 45/400\n",
            "34/34 [==============================] - 0s 6ms/step - loss: 0.3912 - accuracy: 0.8033 - val_loss: 0.4811 - val_accuracy: 0.7313\n"
          ]
        }
      ]
    },
    {
      "cell_type": "code",
      "source": [
        "# Visualize Loss & Accuracy\n",
        "%matplotlib inline\n",
        "import matplotlib.pyplot as plt\n",
        "acc = history.history['accuracy']\n",
        "loss = history.history['loss']\n",
        "val_acc=history.history['val_accuracy']\n",
        "val_loss=history.history['val_loss']\n",
        "\n",
        "epochs = range(len(acc))\n",
        "\n",
        "plt.plot(epochs, acc, 'r', label='Training accuracy')\n",
        "plt.plot(epochs, val_acc, 'b', label='Validation accuracy')\n",
        "plt.title('Training accuracy')\n",
        "plt.legend()\n",
        "plt.figure()\n",
        "\n",
        "plt.plot(epochs, loss, 'r', label='Training Loss')\n",
        "plt.plot(epochs, val_loss, 'b', label='Validation Loss')\n",
        "plt.title('Training loss')\n",
        "plt.legend()\n",
        "\n",
        "plt.show()"
      ],
      "metadata": {
        "id": "RN5Fun988WWB",
        "colab": {
          "base_uri": "https://localhost:8080/",
          "height": 545
        },
        "outputId": "a259df43-accc-470a-d1ad-93fa44b5cf2c"
      },
      "execution_count": 40,
      "outputs": [
        {
          "output_type": "display_data",
          "data": {
            "text/plain": [
              "<Figure size 432x288 with 1 Axes>"
            ],
            "image/png": "[encoded data removed]"
          },
          "metadata": {
            "needs_background": "light"
          }
        },
        {
          "output_type": "display_data",
          "data": {
            "text/plain": [
              "<Figure size 432x288 with 1 Axes>"
            ],
            "image/png": "[encoded data removed]"
          },
          "metadata": {
            "needs_background": "light"
          }
        }
      ]
    },
    {
      "cell_type": "code",
      "source": [
        "model_2.evaluate(X_test, y_test)"
      ],
      "metadata": {
        "colab": {
          "base_uri": "https://localhost:8080/"
        },
        "id": "2oaZH-D3hxaA",
        "outputId": "78abbb1f-c2ab-417f-d9ad-16cdfc1f9f18"
      },
      "execution_count": 41,
      "outputs": [
        {
          "output_type": "stream",
          "name": "stdout",
          "text": [
            "3/3 [==============================] - 0s 4ms/step - loss: 0.3839 - accuracy: 0.8676\n"
          ]
        },
        {
          "output_type": "execute_result",
          "data": {
            "text/plain": [
              "[0.3839488923549652, 0.8676470518112183]"
            ]
          },
          "metadata": {},
          "execution_count": 41
        }
      ]
    },
    {
      "cell_type": "markdown",
      "source": [
        "##Model 3"
      ],
      "metadata": {
        "id": "ylcxYzKw3PMT"
      }
    },
    {
      "cell_type": "code",
      "source": [
        "model_3 = tf.keras.models.Sequential([\n",
        "                                    tf.keras.layers.Dense(512, input_shape=[4],activation=tf.keras.activations.elu),\n",
        "                                    tf.keras.layers.Dense(256, activation=tf.keras.activations.elu),\n",
        "                                    tf.keras.layers.Dense(256, activation=tf.keras.activations.elu),\n",
        "                                    tf.keras.layers.Dense(128, activation=tf.keras.activations.elu),\n",
        "                                    tf.keras.layers.Dense(1, activation=tf.nn.sigmoid)\n",
        "                                    ])"
      ],
      "metadata": {
        "id": "Fd1MXWcR3Rie"
      },
      "execution_count": 42,
      "outputs": []
    },
    {
      "cell_type": "code",
      "source": [
        "model_3.compile(loss=\"binary_crossentropy\",optimizer=adam,metrics=['accuracy'])"
      ],
      "metadata": {
        "id": "Y0hgKrqQ3Rif"
      },
      "execution_count": 43,
      "outputs": []
    },
    {
      "cell_type": "code",
      "source": [
        "history = model_3.fit(X_train, y_train, validation_data = (X_valid,y_valid), batch_size=16, epochs=400, callbacks=callback,  verbose=1)"
      ],
      "metadata": {
        "id": "yzt42fQV3Rif",
        "colab": {
          "base_uri": "https://localhost:8080/"
        },
        "outputId": "91cef5e0-bce1-4445-bee5-584755a76eb5"
      },
      "execution_count": 44,
      "outputs": [
        {
          "output_type": "stream",
          "name": "stdout",
          "text": [
            "Epoch 1/400\n",
            "34/34 [==============================] - 1s 11ms/step - loss: 1.4937 - accuracy: 0.5677 - val_loss: 0.7934 - val_accuracy: 0.5224\n",
            "Epoch 2/400\n",
            "34/34 [==============================] - 0s 6ms/step - loss: 0.7629 - accuracy: 0.5751 - val_loss: 0.6450 - val_accuracy: 0.5373\n",
            "Epoch 3/400\n",
            "34/34 [==============================] - 0s 6ms/step - loss: 0.6664 - accuracy: 0.6531 - val_loss: 0.6374 - val_accuracy: 0.5672\n",
            "Epoch 4/400\n",
            "34/34 [==============================] - 0s 6ms/step - loss: 0.5732 - accuracy: 0.6939 - val_loss: 0.5789 - val_accuracy: 0.7015\n",
            "Epoch 5/400\n",
            "34/34 [==============================] - 0s 6ms/step - loss: 0.5500 - accuracy: 0.7180 - val_loss: 0.7816 - val_accuracy: 0.5672\n",
            "Epoch 6/400\n",
            "34/34 [==============================] - 0s 6ms/step - loss: 0.5576 - accuracy: 0.7291 - val_loss: 0.5428 - val_accuracy: 0.6866\n",
            "Epoch 7/400\n",
            "34/34 [==============================] - 0s 6ms/step - loss: 0.4905 - accuracy: 0.7532 - val_loss: 0.6325 - val_accuracy: 0.6418\n",
            "Epoch 8/400\n",
            "34/34 [==============================] - 0s 6ms/step - loss: 0.5439 - accuracy: 0.7143 - val_loss: 0.5610 - val_accuracy: 0.7164\n",
            "Epoch 9/400\n",
            "34/34 [==============================] - 0s 6ms/step - loss: 0.4838 - accuracy: 0.7607 - val_loss: 0.5383 - val_accuracy: 0.6716\n",
            "Epoch 10/400\n",
            "34/34 [==============================] - 0s 6ms/step - loss: 0.4680 - accuracy: 0.7662 - val_loss: 0.5089 - val_accuracy: 0.7463\n",
            "Epoch 11/400\n",
            "34/34 [==============================] - 0s 6ms/step - loss: 0.4929 - accuracy: 0.7532 - val_loss: 0.5102 - val_accuracy: 0.7015\n",
            "Epoch 12/400\n",
            "34/34 [==============================] - 0s 6ms/step - loss: 0.4857 - accuracy: 0.7514 - val_loss: 0.5196 - val_accuracy: 0.7164\n",
            "Epoch 13/400\n",
            "34/34 [==============================] - 0s 6ms/step - loss: 0.4950 - accuracy: 0.7384 - val_loss: 0.4926 - val_accuracy: 0.7015\n",
            "Epoch 14/400\n",
            "34/34 [==============================] - 0s 6ms/step - loss: 0.4572 - accuracy: 0.7848 - val_loss: 0.5237 - val_accuracy: 0.7463\n",
            "Epoch 15/400\n",
            "34/34 [==============================] - 0s 6ms/step - loss: 0.4503 - accuracy: 0.7755 - val_loss: 0.5346 - val_accuracy: 0.7313\n",
            "Epoch 16/400\n",
            "34/34 [==============================] - 0s 6ms/step - loss: 0.4540 - accuracy: 0.7681 - val_loss: 0.4793 - val_accuracy: 0.7313\n",
            "Epoch 17/400\n",
            "34/34 [==============================] - 0s 6ms/step - loss: 0.4249 - accuracy: 0.7829 - val_loss: 0.5008 - val_accuracy: 0.7463\n",
            "Epoch 18/400\n",
            "34/34 [==============================] - 0s 6ms/step - loss: 0.4453 - accuracy: 0.7737 - val_loss: 0.4813 - val_accuracy: 0.7463\n",
            "Epoch 19/400\n",
            "34/34 [==============================] - 0s 6ms/step - loss: 0.4653 - accuracy: 0.7570 - val_loss: 0.4943 - val_accuracy: 0.7612\n",
            "Epoch 20/400\n",
            "34/34 [==============================] - 0s 6ms/step - loss: 0.4448 - accuracy: 0.7588 - val_loss: 0.4857 - val_accuracy: 0.7313\n",
            "Epoch 21/400\n",
            "34/34 [==============================] - 0s 6ms/step - loss: 0.4645 - accuracy: 0.7570 - val_loss: 0.5008 - val_accuracy: 0.6866\n",
            "Epoch 22/400\n",
            "34/34 [==============================] - 0s 6ms/step - loss: 0.4379 - accuracy: 0.7662 - val_loss: 0.6179 - val_accuracy: 0.7313\n",
            "Epoch 23/400\n",
            "34/34 [==============================] - 0s 6ms/step - loss: 0.4676 - accuracy: 0.7681 - val_loss: 0.5518 - val_accuracy: 0.7313\n",
            "Epoch 24/400\n",
            "34/34 [==============================] - 0s 6ms/step - loss: 0.4621 - accuracy: 0.7458 - val_loss: 0.4702 - val_accuracy: 0.7463\n",
            "Epoch 25/400\n",
            "34/34 [==============================] - 0s 6ms/step - loss: 0.4336 - accuracy: 0.7681 - val_loss: 0.4826 - val_accuracy: 0.7761\n",
            "Epoch 26/400\n",
            "34/34 [==============================] - 0s 5ms/step - loss: 0.5047 - accuracy: 0.7718 - val_loss: 0.4785 - val_accuracy: 0.7313\n",
            "Epoch 27/400\n",
            "34/34 [==============================] - 0s 6ms/step - loss: 0.4463 - accuracy: 0.7811 - val_loss: 0.5561 - val_accuracy: 0.7164\n",
            "Epoch 28/400\n",
            "34/34 [==============================] - 0s 6ms/step - loss: 0.4292 - accuracy: 0.7848 - val_loss: 0.4788 - val_accuracy: 0.7164\n",
            "Epoch 29/400\n",
            "34/34 [==============================] - 0s 7ms/step - loss: 0.4362 - accuracy: 0.7811 - val_loss: 0.5621 - val_accuracy: 0.7313\n",
            "Epoch 30/400\n",
            "34/34 [==============================] - 0s 6ms/step - loss: 0.4429 - accuracy: 0.7718 - val_loss: 0.4741 - val_accuracy: 0.7463\n",
            "Epoch 31/400\n",
            "34/34 [==============================] - 0s 6ms/step - loss: 0.4162 - accuracy: 0.7829 - val_loss: 0.4666 - val_accuracy: 0.7761\n",
            "Epoch 32/400\n",
            "34/34 [==============================] - 0s 5ms/step - loss: 0.4055 - accuracy: 0.7904 - val_loss: 0.4853 - val_accuracy: 0.7015\n",
            "Epoch 33/400\n",
            "34/34 [==============================] - 0s 6ms/step - loss: 0.4139 - accuracy: 0.7755 - val_loss: 0.4920 - val_accuracy: 0.7463\n",
            "Epoch 34/400\n",
            "34/34 [==============================] - 0s 6ms/step - loss: 0.4035 - accuracy: 0.7829 - val_loss: 0.4899 - val_accuracy: 0.7910\n",
            "Epoch 35/400\n",
            "34/34 [==============================] - 0s 6ms/step - loss: 0.4469 - accuracy: 0.7774 - val_loss: 0.5041 - val_accuracy: 0.7612\n",
            "Epoch 36/400\n",
            "34/34 [==============================] - 0s 6ms/step - loss: 0.4280 - accuracy: 0.7737 - val_loss: 0.5715 - val_accuracy: 0.7313\n",
            "Epoch 37/400\n",
            "34/34 [==============================] - 0s 14ms/step - loss: 0.4300 - accuracy: 0.7978 - val_loss: 0.4965 - val_accuracy: 0.7164\n",
            "Epoch 38/400\n",
            "34/34 [==============================] - 1s 16ms/step - loss: 0.4394 - accuracy: 0.7644 - val_loss: 0.5034 - val_accuracy: 0.7761\n",
            "Epoch 39/400\n",
            "34/34 [==============================] - 0s 11ms/step - loss: 0.4219 - accuracy: 0.7885 - val_loss: 0.4536 - val_accuracy: 0.7612\n",
            "Epoch 40/400\n",
            "34/34 [==============================] - 0s 6ms/step - loss: 0.3928 - accuracy: 0.8071 - val_loss: 0.4483 - val_accuracy: 0.7761\n",
            "Epoch 41/400\n",
            "34/34 [==============================] - 0s 6ms/step - loss: 0.3802 - accuracy: 0.8033 - val_loss: 0.5558 - val_accuracy: 0.7015\n",
            "Epoch 42/400\n",
            "34/34 [==============================] - 0s 6ms/step - loss: 0.3963 - accuracy: 0.7978 - val_loss: 0.4692 - val_accuracy: 0.7910\n",
            "Epoch 43/400\n",
            "34/34 [==============================] - 0s 7ms/step - loss: 0.3878 - accuracy: 0.8015 - val_loss: 0.4513 - val_accuracy: 0.7612\n",
            "Epoch 44/400\n",
            "34/34 [==============================] - 0s 7ms/step - loss: 0.3705 - accuracy: 0.7978 - val_loss: 0.4452 - val_accuracy: 0.8060\n",
            "Epoch 45/400\n",
            "34/34 [==============================] - 0s 6ms/step - loss: 0.3721 - accuracy: 0.8126 - val_loss: 0.5152 - val_accuracy: 0.7910\n",
            "Epoch 46/400\n",
            "34/34 [==============================] - 0s 6ms/step - loss: 0.4352 - accuracy: 0.7848 - val_loss: 0.4898 - val_accuracy: 0.7910\n",
            "Epoch 47/400\n",
            "34/34 [==============================] - 0s 6ms/step - loss: 0.3711 - accuracy: 0.7996 - val_loss: 0.4311 - val_accuracy: 0.7761\n",
            "Epoch 48/400\n",
            "34/34 [==============================] - 0s 6ms/step - loss: 0.3929 - accuracy: 0.7792 - val_loss: 0.4583 - val_accuracy: 0.7761\n",
            "Epoch 49/400\n",
            "34/34 [==============================] - 0s 7ms/step - loss: 0.3718 - accuracy: 0.8182 - val_loss: 0.4555 - val_accuracy: 0.8060\n",
            "Epoch 50/400\n",
            "34/34 [==============================] - 0s 6ms/step - loss: 0.3639 - accuracy: 0.8182 - val_loss: 0.5018 - val_accuracy: 0.8060\n",
            "Epoch 51/400\n",
            "34/34 [==============================] - 0s 6ms/step - loss: 0.3596 - accuracy: 0.8163 - val_loss: 0.5899 - val_accuracy: 0.7313\n",
            "Epoch 52/400\n",
            "34/34 [==============================] - 0s 6ms/step - loss: 0.3938 - accuracy: 0.8052 - val_loss: 0.4590 - val_accuracy: 0.8209\n",
            "Epoch 53/400\n",
            "34/34 [==============================] - 0s 6ms/step - loss: 0.3617 - accuracy: 0.8349 - val_loss: 0.4326 - val_accuracy: 0.7910\n",
            "Epoch 54/400\n",
            "34/34 [==============================] - 0s 7ms/step - loss: 0.3492 - accuracy: 0.8404 - val_loss: 0.4308 - val_accuracy: 0.7761\n",
            "Epoch 55/400\n",
            "34/34 [==============================] - 0s 6ms/step - loss: 0.3440 - accuracy: 0.8275 - val_loss: 0.5300 - val_accuracy: 0.7761\n",
            "Epoch 56/400\n",
            "34/34 [==============================] - 0s 6ms/step - loss: 0.3678 - accuracy: 0.8071 - val_loss: 0.4139 - val_accuracy: 0.7463\n",
            "Epoch 57/400\n",
            "34/34 [==============================] - 0s 6ms/step - loss: 0.3572 - accuracy: 0.8219 - val_loss: 0.4166 - val_accuracy: 0.7761\n",
            "Epoch 58/400\n",
            "34/34 [==============================] - 0s 6ms/step - loss: 0.3503 - accuracy: 0.8404 - val_loss: 0.5241 - val_accuracy: 0.8358\n",
            "Epoch 59/400\n",
            "34/34 [==============================] - 0s 6ms/step - loss: 0.3902 - accuracy: 0.7978 - val_loss: 0.4299 - val_accuracy: 0.7910\n",
            "Epoch 60/400\n",
            "34/34 [==============================] - 0s 7ms/step - loss: 0.3449 - accuracy: 0.8219 - val_loss: 0.4704 - val_accuracy: 0.8209\n",
            "Epoch 61/400\n",
            "34/34 [==============================] - 0s 5ms/step - loss: 0.3301 - accuracy: 0.8404 - val_loss: 0.4468 - val_accuracy: 0.7761\n",
            "Epoch 62/400\n",
            "34/34 [==============================] - 0s 6ms/step - loss: 0.3365 - accuracy: 0.8442 - val_loss: 0.5634 - val_accuracy: 0.7612\n",
            "Epoch 63/400\n",
            "34/34 [==============================] - 0s 7ms/step - loss: 0.3406 - accuracy: 0.8330 - val_loss: 0.4746 - val_accuracy: 0.7313\n",
            "Epoch 64/400\n",
            "34/34 [==============================] - 0s 6ms/step - loss: 0.3104 - accuracy: 0.8460 - val_loss: 0.4622 - val_accuracy: 0.8507\n",
            "Epoch 65/400\n",
            "34/34 [==============================] - 0s 6ms/step - loss: 0.3113 - accuracy: 0.8627 - val_loss: 0.5589 - val_accuracy: 0.8060\n",
            "Epoch 66/400\n",
            "34/34 [==============================] - 0s 6ms/step - loss: 0.3359 - accuracy: 0.8312 - val_loss: 0.4701 - val_accuracy: 0.7761\n"
          ]
        }
      ]
    },
    {
      "cell_type": "code",
      "source": [
        "# Visualize Loss & Accuracy\n",
        "%matplotlib inline\n",
        "import matplotlib.pyplot as plt\n",
        "acc = history.history['accuracy']\n",
        "loss = history.history['loss']\n",
        "val_acc=history.history['val_accuracy']\n",
        "val_loss=history.history['val_loss']\n",
        "\n",
        "epochs = range(len(acc))\n",
        "\n",
        "plt.plot(epochs, acc, 'r', label='Training accuracy')\n",
        "plt.plot(epochs, val_acc, 'b', label='Validation accuracy')\n",
        "plt.title('Training accuracy')\n",
        "plt.legend()\n",
        "plt.figure()\n",
        "\n",
        "plt.plot(epochs, loss, 'r', label='Training Loss')\n",
        "plt.plot(epochs, val_loss, 'b', label='Validation Loss')\n",
        "plt.title('Training loss')\n",
        "plt.legend()\n",
        "\n",
        "plt.show()"
      ],
      "metadata": {
        "colab": {
          "base_uri": "https://localhost:8080/",
          "height": 545
        },
        "outputId": "c694c7fd-4fe1-4939-d7a9-c9ec10543775",
        "id": "AgrvNtHaZKzl"
      },
      "execution_count": 45,
      "outputs": [
        {
          "output_type": "display_data",
          "data": {
            "text/plain": [
              "<Figure size 432x288 with 1 Axes>"
            ],
            "image/png": "[encoded data removed]"
          },
          "metadata": {
            "needs_background": "light"
          }
        },
        {
          "output_type": "display_data",
          "data": {
            "text/plain": [
              "<Figure size 432x288 with 1 Axes>"
            ],
            "image/png": "[encoded data removed]"
          },
          "metadata": {
            "needs_background": "light"
          }
        }
      ]
    },
    {
      "cell_type": "code",
      "source": [
        "model_3.evaluate(X_test, y_test)"
      ],
      "metadata": {
        "colab": {
          "base_uri": "https://localhost:8080/"
        },
        "id": "RO5IVjI7ldsp",
        "outputId": "e8ab185a-1d13-40ec-a2b2-710d6c15680f"
      },
      "execution_count": 46,
      "outputs": [
        {
          "output_type": "stream",
          "name": "stdout",
          "text": [
            "3/3 [==============================] - 0s 5ms/step - loss: 0.4063 - accuracy: 0.8824\n"
          ]
        },
        {
          "output_type": "execute_result",
          "data": {
            "text/plain": [
              "[0.4063361585140228, 0.8823529481887817]"
            ]
          },
          "metadata": {},
          "execution_count": 46
        }
      ]
    },
    {
      "cell_type": "markdown",
      "source": [
        "##Model 4"
      ],
      "metadata": {
        "id": "QqJUVXHD45IL"
      }
    },
    {
      "cell_type": "code",
      "source": [
        "model_4 = tf.keras.models.Sequential([\n",
        "                                    tf.keras.layers.Dense(512, input_shape=[4],activation=tf.keras.activations.gelu),\n",
        "                                    tf.keras.layers.Dense(256, activation=tf.keras.activations.gelu),\n",
        "                                    tf.keras.layers.Dense(256, activation=tf.keras.activations.gelu),\n",
        "                                    tf.keras.layers.Dense(128, activation=tf.keras.activations.gelu),\n",
        "                                    tf.keras.layers.Dense(1, activation=tf.nn.sigmoid)\n",
        "                                    ])"
      ],
      "metadata": {
        "id": "Hw2Po1Ey49W1"
      },
      "execution_count": 47,
      "outputs": []
    },
    {
      "cell_type": "code",
      "source": [
        "model_4.compile(loss=\"binary_crossentropy\",optimizer=adam,metrics=['accuracy'])"
      ],
      "metadata": {
        "id": "o3I8x_d_49W2"
      },
      "execution_count": 48,
      "outputs": []
    },
    {
      "cell_type": "code",
      "source": [
        "history = model_4.fit(X_train, y_train, validation_data = (X_valid,y_valid), batch_size=16, epochs=400, callbacks=callback,  verbose=1)"
      ],
      "metadata": {
        "id": "v_POrlYb49W2",
        "colab": {
          "base_uri": "https://localhost:8080/"
        },
        "outputId": "7be70c66-9391-4dcf-b687-9f72fdb1156e"
      },
      "execution_count": 49,
      "outputs": [
        {
          "output_type": "stream",
          "name": "stdout",
          "text": [
            "Epoch 1/400\n",
            "34/34 [==============================] - 2s 12ms/step - loss: 1.1711 - accuracy: 0.4861 - val_loss: 0.6659 - val_accuracy: 0.5224\n",
            "Epoch 2/400\n",
            "34/34 [==============================] - 0s 6ms/step - loss: 0.6231 - accuracy: 0.6512 - val_loss: 0.6424 - val_accuracy: 0.6418\n",
            "Epoch 3/400\n",
            "34/34 [==============================] - 0s 6ms/step - loss: 0.5443 - accuracy: 0.7161 - val_loss: 0.6093 - val_accuracy: 0.6269\n",
            "Epoch 4/400\n",
            "34/34 [==============================] - 0s 6ms/step - loss: 0.5609 - accuracy: 0.7254 - val_loss: 0.5374 - val_accuracy: 0.6866\n",
            "Epoch 5/400\n",
            "34/34 [==============================] - 0s 7ms/step - loss: 0.4872 - accuracy: 0.7681 - val_loss: 0.6827 - val_accuracy: 0.6716\n",
            "Epoch 6/400\n",
            "34/34 [==============================] - 0s 6ms/step - loss: 0.4938 - accuracy: 0.7403 - val_loss: 0.5360 - val_accuracy: 0.7463\n",
            "Epoch 7/400\n",
            "34/34 [==============================] - 0s 6ms/step - loss: 0.4707 - accuracy: 0.7737 - val_loss: 0.4942 - val_accuracy: 0.7164\n",
            "Epoch 8/400\n",
            "34/34 [==============================] - 0s 6ms/step - loss: 0.4576 - accuracy: 0.7625 - val_loss: 0.5792 - val_accuracy: 0.7015\n",
            "Epoch 9/400\n",
            "34/34 [==============================] - 0s 6ms/step - loss: 0.4766 - accuracy: 0.7532 - val_loss: 0.4964 - val_accuracy: 0.7612\n",
            "Epoch 10/400\n",
            "34/34 [==============================] - 0s 7ms/step - loss: 0.4526 - accuracy: 0.7588 - val_loss: 0.4870 - val_accuracy: 0.7015\n",
            "Epoch 11/400\n",
            "34/34 [==============================] - 0s 6ms/step - loss: 0.4549 - accuracy: 0.7811 - val_loss: 0.5442 - val_accuracy: 0.7313\n",
            "Epoch 12/400\n",
            "34/34 [==============================] - 0s 7ms/step - loss: 0.4627 - accuracy: 0.7718 - val_loss: 0.4793 - val_accuracy: 0.7164\n",
            "Epoch 13/400\n",
            "34/34 [==============================] - 0s 6ms/step - loss: 0.4571 - accuracy: 0.7588 - val_loss: 0.4977 - val_accuracy: 0.7015\n",
            "Epoch 14/400\n",
            "34/34 [==============================] - 0s 6ms/step - loss: 0.4532 - accuracy: 0.7811 - val_loss: 0.4802 - val_accuracy: 0.7463\n",
            "Epoch 15/400\n",
            "34/34 [==============================] - 0s 6ms/step - loss: 0.4316 - accuracy: 0.7699 - val_loss: 0.4565 - val_accuracy: 0.7612\n",
            "Epoch 16/400\n",
            "34/34 [==============================] - 0s 7ms/step - loss: 0.4082 - accuracy: 0.7904 - val_loss: 0.5360 - val_accuracy: 0.7612\n",
            "Epoch 17/400\n",
            "34/34 [==============================] - 0s 7ms/step - loss: 0.4483 - accuracy: 0.7532 - val_loss: 0.4645 - val_accuracy: 0.7612\n",
            "Epoch 18/400\n",
            "34/34 [==============================] - 0s 6ms/step - loss: 0.4498 - accuracy: 0.7718 - val_loss: 0.4833 - val_accuracy: 0.7761\n",
            "Epoch 19/400\n",
            "34/34 [==============================] - 0s 6ms/step - loss: 0.4148 - accuracy: 0.7922 - val_loss: 0.5034 - val_accuracy: 0.7612\n",
            "Epoch 20/400\n",
            "34/34 [==============================] - 0s 6ms/step - loss: 0.4221 - accuracy: 0.7996 - val_loss: 0.4597 - val_accuracy: 0.7463\n",
            "Epoch 21/400\n",
            "34/34 [==============================] - 0s 6ms/step - loss: 0.4135 - accuracy: 0.7922 - val_loss: 0.4911 - val_accuracy: 0.7612\n",
            "Epoch 22/400\n",
            "34/34 [==============================] - 0s 7ms/step - loss: 0.3963 - accuracy: 0.8108 - val_loss: 0.4508 - val_accuracy: 0.8060\n",
            "Epoch 23/400\n",
            "34/34 [==============================] - 0s 5ms/step - loss: 0.3740 - accuracy: 0.8237 - val_loss: 0.4844 - val_accuracy: 0.7612\n",
            "Epoch 24/400\n",
            "34/34 [==============================] - 0s 6ms/step - loss: 0.3917 - accuracy: 0.8182 - val_loss: 0.4800 - val_accuracy: 0.7910\n",
            "Epoch 25/400\n",
            "34/34 [==============================] - 0s 6ms/step - loss: 0.3739 - accuracy: 0.8089 - val_loss: 0.4550 - val_accuracy: 0.7910\n",
            "Epoch 26/400\n",
            "34/34 [==============================] - 0s 6ms/step - loss: 0.4050 - accuracy: 0.7996 - val_loss: 0.4199 - val_accuracy: 0.7463\n",
            "Epoch 27/400\n",
            "34/34 [==============================] - 0s 6ms/step - loss: 0.3931 - accuracy: 0.8089 - val_loss: 0.4845 - val_accuracy: 0.7910\n",
            "Epoch 28/400\n",
            "34/34 [==============================] - 0s 6ms/step - loss: 0.3769 - accuracy: 0.8108 - val_loss: 0.4222 - val_accuracy: 0.8060\n",
            "Epoch 29/400\n",
            "34/34 [==============================] - 0s 6ms/step - loss: 0.3989 - accuracy: 0.8089 - val_loss: 0.4504 - val_accuracy: 0.8060\n",
            "Epoch 30/400\n",
            "34/34 [==============================] - 0s 7ms/step - loss: 0.3517 - accuracy: 0.8275 - val_loss: 0.4260 - val_accuracy: 0.8060\n",
            "Epoch 31/400\n",
            "34/34 [==============================] - 0s 6ms/step - loss: 0.3577 - accuracy: 0.8312 - val_loss: 0.6348 - val_accuracy: 0.6418\n",
            "Epoch 32/400\n",
            "34/34 [==============================] - 0s 7ms/step - loss: 0.4014 - accuracy: 0.7959 - val_loss: 0.4239 - val_accuracy: 0.8060\n",
            "Epoch 33/400\n",
            "34/34 [==============================] - 0s 6ms/step - loss: 0.3466 - accuracy: 0.8516 - val_loss: 0.4411 - val_accuracy: 0.8209\n",
            "Epoch 34/400\n",
            "34/34 [==============================] - 0s 6ms/step - loss: 0.3744 - accuracy: 0.8256 - val_loss: 0.5346 - val_accuracy: 0.7463\n",
            "Epoch 35/400\n",
            "34/34 [==============================] - 0s 7ms/step - loss: 0.4015 - accuracy: 0.7978 - val_loss: 0.4372 - val_accuracy: 0.8060\n",
            "Epoch 36/400\n",
            "34/34 [==============================] - 0s 6ms/step - loss: 0.3549 - accuracy: 0.8275 - val_loss: 0.4115 - val_accuracy: 0.7910\n",
            "Epoch 37/400\n",
            "34/34 [==============================] - 0s 6ms/step - loss: 0.3976 - accuracy: 0.8052 - val_loss: 0.4724 - val_accuracy: 0.7463\n",
            "Epoch 38/400\n",
            "34/34 [==============================] - 0s 6ms/step - loss: 0.3637 - accuracy: 0.8367 - val_loss: 0.4583 - val_accuracy: 0.8209\n",
            "Epoch 39/400\n",
            "34/34 [==============================] - 0s 7ms/step - loss: 0.3524 - accuracy: 0.8163 - val_loss: 0.4644 - val_accuracy: 0.7910\n",
            "Epoch 40/400\n",
            "34/34 [==============================] - 0s 11ms/step - loss: 0.3308 - accuracy: 0.8349 - val_loss: 0.4009 - val_accuracy: 0.8060\n",
            "Epoch 41/400\n",
            "34/34 [==============================] - 0s 10ms/step - loss: 0.3333 - accuracy: 0.8293 - val_loss: 0.4390 - val_accuracy: 0.8358\n",
            "Epoch 42/400\n",
            "34/34 [==============================] - 0s 10ms/step - loss: 0.3205 - accuracy: 0.8479 - val_loss: 0.3920 - val_accuracy: 0.7910\n",
            "Epoch 43/400\n",
            "34/34 [==============================] - 0s 10ms/step - loss: 0.3084 - accuracy: 0.8386 - val_loss: 0.4346 - val_accuracy: 0.8358\n",
            "Epoch 44/400\n",
            "34/34 [==============================] - 0s 10ms/step - loss: 0.3207 - accuracy: 0.8479 - val_loss: 0.4303 - val_accuracy: 0.7910\n",
            "Epoch 45/400\n",
            "34/34 [==============================] - 0s 10ms/step - loss: 0.3306 - accuracy: 0.8275 - val_loss: 0.4262 - val_accuracy: 0.7910\n",
            "Epoch 46/400\n",
            "34/34 [==============================] - 0s 8ms/step - loss: 0.3050 - accuracy: 0.8534 - val_loss: 0.3809 - val_accuracy: 0.8209\n",
            "Epoch 47/400\n",
            "34/34 [==============================] - 0s 6ms/step - loss: 0.3036 - accuracy: 0.8590 - val_loss: 0.5524 - val_accuracy: 0.7612\n",
            "Epoch 48/400\n",
            "34/34 [==============================] - 0s 6ms/step - loss: 0.3328 - accuracy: 0.8367 - val_loss: 0.4194 - val_accuracy: 0.8358\n",
            "Epoch 49/400\n",
            "34/34 [==============================] - 0s 6ms/step - loss: 0.2845 - accuracy: 0.8571 - val_loss: 0.5073 - val_accuracy: 0.7910\n",
            "Epoch 50/400\n",
            "34/34 [==============================] - 0s 7ms/step - loss: 0.2891 - accuracy: 0.8534 - val_loss: 0.3904 - val_accuracy: 0.8507\n",
            "Epoch 51/400\n",
            "34/34 [==============================] - 0s 7ms/step - loss: 0.2881 - accuracy: 0.8534 - val_loss: 0.4684 - val_accuracy: 0.8209\n",
            "Epoch 52/400\n",
            "34/34 [==============================] - 0s 6ms/step - loss: 0.3188 - accuracy: 0.8534 - val_loss: 0.3954 - val_accuracy: 0.8507\n",
            "Epoch 53/400\n",
            "34/34 [==============================] - 0s 6ms/step - loss: 0.3375 - accuracy: 0.8275 - val_loss: 0.4378 - val_accuracy: 0.8209\n",
            "Epoch 54/400\n",
            "34/34 [==============================] - 0s 6ms/step - loss: 0.3136 - accuracy: 0.8367 - val_loss: 0.4009 - val_accuracy: 0.8060\n",
            "Epoch 55/400\n",
            "34/34 [==============================] - 0s 7ms/step - loss: 0.2956 - accuracy: 0.8479 - val_loss: 0.3704 - val_accuracy: 0.8657\n",
            "Epoch 56/400\n",
            "34/34 [==============================] - 0s 7ms/step - loss: 0.2621 - accuracy: 0.8738 - val_loss: 0.5062 - val_accuracy: 0.8060\n",
            "Epoch 57/400\n",
            "34/34 [==============================] - 0s 6ms/step - loss: 0.2655 - accuracy: 0.8794 - val_loss: 0.5871 - val_accuracy: 0.7761\n",
            "Epoch 58/400\n",
            "34/34 [==============================] - 0s 6ms/step - loss: 0.4220 - accuracy: 0.7848 - val_loss: 0.4225 - val_accuracy: 0.8657\n",
            "Epoch 59/400\n",
            "34/34 [==============================] - 0s 7ms/step - loss: 0.3324 - accuracy: 0.8349 - val_loss: 0.4163 - val_accuracy: 0.8060\n",
            "Epoch 60/400\n",
            "34/34 [==============================] - 0s 7ms/step - loss: 0.2807 - accuracy: 0.8701 - val_loss: 0.3811 - val_accuracy: 0.8657\n",
            "Epoch 61/400\n",
            "34/34 [==============================] - 0s 6ms/step - loss: 0.3107 - accuracy: 0.8237 - val_loss: 0.4035 - val_accuracy: 0.8806\n",
            "Epoch 62/400\n",
            "34/34 [==============================] - 0s 6ms/step - loss: 0.2751 - accuracy: 0.8794 - val_loss: 0.4082 - val_accuracy: 0.8209\n",
            "Epoch 63/400\n",
            "34/34 [==============================] - 0s 6ms/step - loss: 0.2530 - accuracy: 0.8868 - val_loss: 0.3400 - val_accuracy: 0.8955\n",
            "Epoch 64/400\n",
            "34/34 [==============================] - 0s 7ms/step - loss: 0.2649 - accuracy: 0.8590 - val_loss: 0.4234 - val_accuracy: 0.8806\n",
            "Epoch 65/400\n",
            "34/34 [==============================] - 0s 7ms/step - loss: 0.2748 - accuracy: 0.8738 - val_loss: 0.3918 - val_accuracy: 0.8209\n",
            "Epoch 66/400\n",
            "34/34 [==============================] - 0s 6ms/step - loss: 0.2507 - accuracy: 0.8905 - val_loss: 0.4173 - val_accuracy: 0.8657\n",
            "Epoch 67/400\n",
            "34/34 [==============================] - 0s 6ms/step - loss: 0.3342 - accuracy: 0.8442 - val_loss: 0.5372 - val_accuracy: 0.7761\n",
            "Epoch 68/400\n",
            "34/34 [==============================] - 0s 6ms/step - loss: 0.4193 - accuracy: 0.7904 - val_loss: 0.5017 - val_accuracy: 0.7761\n",
            "Epoch 69/400\n",
            "34/34 [==============================] - 0s 6ms/step - loss: 0.3552 - accuracy: 0.8256 - val_loss: 0.4688 - val_accuracy: 0.7910\n",
            "Epoch 70/400\n",
            "34/34 [==============================] - 0s 7ms/step - loss: 0.3036 - accuracy: 0.8571 - val_loss: 0.4675 - val_accuracy: 0.8507\n",
            "Epoch 71/400\n",
            "34/34 [==============================] - 0s 7ms/step - loss: 0.2916 - accuracy: 0.8590 - val_loss: 0.4306 - val_accuracy: 0.8209\n",
            "Epoch 72/400\n",
            "34/34 [==============================] - 0s 6ms/step - loss: 0.2889 - accuracy: 0.8664 - val_loss: 0.4330 - val_accuracy: 0.8209\n",
            "Epoch 73/400\n",
            "34/34 [==============================] - 0s 7ms/step - loss: 0.2929 - accuracy: 0.8516 - val_loss: 0.3800 - val_accuracy: 0.8507\n"
          ]
        }
      ]
    },
    {
      "cell_type": "code",
      "source": [
        "# Visualize Loss & Accuracy\n",
        "%matplotlib inline\n",
        "import matplotlib.pyplot as plt\n",
        "acc = history.history['accuracy']\n",
        "loss = history.history['loss']\n",
        "val_acc=history.history['val_accuracy']\n",
        "val_loss=history.history['val_loss']\n",
        "\n",
        "epochs = range(len(acc))\n",
        "\n",
        "plt.plot(epochs, acc, 'r', label='Training accuracy')\n",
        "plt.plot(epochs, val_acc, 'b', label='Validation accuracy')\n",
        "plt.title('Training accuracy')\n",
        "plt.legend()\n",
        "plt.figure()\n",
        "\n",
        "plt.plot(epochs, loss, 'r', label='Training Loss')\n",
        "plt.plot(epochs, val_loss, 'b', label='Validation Loss')\n",
        "plt.title('Training loss')\n",
        "plt.legend()\n",
        "\n",
        "plt.show()"
      ],
      "metadata": {
        "colab": {
          "base_uri": "https://localhost:8080/",
          "height": 545
        },
        "outputId": "f6ce48c4-dd95-42dc-ff1c-d6b29ee25fd7",
        "id": "t_B9kXsaZWOd"
      },
      "execution_count": 50,
      "outputs": [
        {
          "output_type": "display_data",
          "data": {
            "text/plain": [
              "<Figure size 432x288 with 1 Axes>"
            ],
            "image/png": "[encoded data removed]"
          },
          "metadata": {
            "needs_background": "light"
          }
        },
        {
          "output_type": "display_data",
          "data": {
            "text/plain": [
              "<Figure size 432x288 with 1 Axes>"
            ],
            "image/png": "[encoded data removed]"
          },
          "metadata": {
            "needs_background": "light"
          }
        }
      ]
    },
    {
      "cell_type": "code",
      "source": [
        "model_4.evaluate(X_test, y_test)"
      ],
      "metadata": {
        "colab": {
          "base_uri": "https://localhost:8080/"
        },
        "id": "vVhGfS0clhjB",
        "outputId": "c62c1d3c-fe37-417d-a4b3-e8feb867c3fa"
      },
      "execution_count": 51,
      "outputs": [
        {
          "output_type": "stream",
          "name": "stdout",
          "text": [
            "3/3 [==============================] - 0s 6ms/step - loss: 0.3563 - accuracy: 0.8676\n"
          ]
        },
        {
          "output_type": "execute_result",
          "data": {
            "text/plain": [
              "[0.35634922981262207, 0.8676470518112183]"
            ]
          },
          "metadata": {},
          "execution_count": 51
        }
      ]
    },
    {
      "cell_type": "markdown",
      "source": [
        "#**Prediction**"
      ],
      "metadata": {
        "id": "shB4VHxc8Ysm"
      }
    },
    {
      "cell_type": "code",
      "source": [
        "predictions=model_3.predict(X_test, batch_size=None)"
      ],
      "metadata": {
        "id": "20z3V9goWfpc"
      },
      "execution_count": 52,
      "outputs": []
    },
    {
      "cell_type": "code",
      "source": [
        "label=[]\n",
        "for i in range(len(predictions)):\n",
        "  if predictions[i][0]>0.5:\n",
        "      label.append(1)\n",
        "  else:\n",
        "      label.append(0)"
      ],
      "metadata": {
        "id": "9xZd7t0UiUuc"
      },
      "execution_count": 53,
      "outputs": []
    },
    {
      "cell_type": "code",
      "source": [
        "testing = pd.DataFrame()\n",
        "testing['Stability'] = y_test\n",
        "testing['Pred_Stability'] = label"
      ],
      "metadata": {
        "id": "VLccxGs7TK-t"
      },
      "execution_count": 54,
      "outputs": []
    },
    {
      "cell_type": "code",
      "source": [
        "testing.head(10)"
      ],
      "metadata": {
        "colab": {
          "base_uri": "https://localhost:8080/",
          "height": 363
        },
        "id": "rpn2pFs3a3Jy",
        "outputId": "d95198ae-38d8-423d-eb90-7f80a8e82546"
      },
      "execution_count": 55,
      "outputs": [
        {
          "output_type": "execute_result",
          "data": {
            "text/plain": [
              "   Stability  Pred_Stability\n",
              "0          1               1\n",
              "1          0               0\n",
              "2          1               1\n",
              "3          0               0\n",
              "4          1               0\n",
              "5          1               1\n",
              "6          1               1\n",
              "7          1               1\n",
              "8          1               1\n",
              "9          1               1"
            ],
            "text/html": [
              "\n",
              "  <div id=\"df-a9656d11-c33f-4189-ac06-b5ef67de2f60\">\n",
              "    <div class=\"colab-df-container\">\n",
              "      <div>\n",
              "<style scoped>\n",
              "    .dataframe tbody tr th:only-of-type {\n",
              "        vertical-align: middle;\n",
              "    }\n",
              "\n",
              "    .dataframe tbody tr th {\n",
              "        vertical-align: top;\n",
              "    }\n",
              "\n",
              "    .dataframe thead th {\n",
              "        text-align: right;\n",
              "    }\n",
              "</style>\n",
              "<table border=\"1\" class=\"dataframe\">\n",
              "  <thead>\n",
              "    <tr style=\"text-align: right;\">\n",
              "      <th></th>\n",
              "      <th>Stability</th>\n",
              "      <th>Pred_Stability</th>\n",
              "    </tr>\n",
              "  </thead>\n",
              "  <tbody>\n",
              "    <tr>\n",
              "      <th>0</th>\n",
              "      <td>1</td>\n",
              "      <td>1</td>\n",
              "    </tr>\n",
              "    <tr>\n",
              "      <th>1</th>\n",
              "      <td>0</td>\n",
              "      <td>0</td>\n",
              "    </tr>\n",
              "    <tr>\n",
              "      <th>2</th>\n",
              "      <td>1</td>\n",
              "      <td>1</td>\n",
              "    </tr>\n",
              "    <tr>\n",
              "      <th>3</th>\n",
              "      <td>0</td>\n",
              "      <td>0</td>\n",
              "    </tr>\n",
              "    <tr>\n",
              "      <th>4</th>\n",
              "      <td>1</td>\n",
              "      <td>0</td>\n",
              "    </tr>\n",
              "    <tr>\n",
              "      <th>5</th>\n",
              "      <td>1</td>\n",
              "      <td>1</td>\n",
              "    </tr>\n",
              "    <tr>\n",
              "      <th>6</th>\n",
              "      <td>1</td>\n",
              "      <td>1</td>\n",
              "    </tr>\n",
              "    <tr>\n",
              "      <th>7</th>\n",
              "      <td>1</td>\n",
              "      <td>1</td>\n",
              "    </tr>\n",
              "    <tr>\n",
              "      <th>8</th>\n",
              "      <td>1</td>\n",
              "      <td>1</td>\n",
              "    </tr>\n",
              "    <tr>\n",
              "      <th>9</th>\n",
              "      <td>1</td>\n",
              "      <td>1</td>\n",
              "    </tr>\n",
              "  </tbody>\n",
              "</table>\n",
              "</div>\n",
              "      <button class=\"colab-df-convert\" onclick=\"convertToInteractive('df-a9656d11-c33f-4189-ac06-b5ef67de2f60')\"\n",
              "              title=\"Convert this dataframe to an interactive table.\"\n",
              "              style=\"display:none;\">\n",
              "        \n",
              "  <svg xmlns=\"http://www.w3.org/2000/svg\" height=\"24px\"viewBox=\"0 0 24 24\"\n",
              "       width=\"24px\">\n",
              "    <path d=\"M0 0h24v24H0V0z\" fill=\"none\"/>\n",
              "    <path d=\"M18.56 5.44l.94 2.06.94-2.06 2.06-.94-2.06-.94-.94-2.06-.94 2.06-2.06.94zm-11 1L8.5 8.5l.94-2.06 2.06-.94-2.06-.94L8.5 2.5l-.94 2.06-2.06.94zm10 10l.94 2.06.94-2.06 2.06-.94-2.06-.94-.94-2.06-.94 2.06-2.06.94z\"/><path d=\"M17.41 7.96l-1.37-1.37c-.4-.4-.92-.59-1.43-.59-.52 0-1.04.2-1.43.59L10.3 9.45l-7.72 7.72c-.78.78-.78 2.05 0 2.83L4 21.41c.39.39.9.59 1.41.59.51 0 1.02-.2 1.41-.59l7.78-7.78 2.81-2.81c.8-.78.8-2.07 0-2.86zM5.41 20L4 18.59l7.72-7.72 1.47 1.35L5.41 20z\"/>\n",
              "  </svg>\n",
              "      </button>\n",
              "      \n",
              "  <style>\n",
              "    .colab-df-container {\n",
              "      display:flex;\n",
              "      flex-wrap:wrap;\n",
              "      gap: 12px;\n",
              "    }\n",
              "\n",
              "    .colab-df-convert {\n",
              "      background-color: #E8F0FE;\n",
              "      border: none;\n",
              "      border-radius: 50%;\n",
              "      cursor: pointer;\n",
              "      display: none;\n",
              "      fill: #1967D2;\n",
              "      height: 32px;\n",
              "      padding: 0 0 0 0;\n",
              "      width: 32px;\n",
              "    }\n",
              "\n",
              "    .colab-df-convert:hover {\n",
              "      background-color: #E2EBFA;\n",
              "      box-shadow: 0px 1px 2px rgba(60, 64, 67, 0.3), 0px 1px 3px 1px rgba(60, 64, 67, 0.15);\n",
              "      fill: #174EA6;\n",
              "    }\n",
              "\n",
              "    [theme=dark] .colab-df-convert {\n",
              "      background-color: #3B4455;\n",
              "      fill: #D2E3FC;\n",
              "    }\n",
              "\n",
              "    [theme=dark] .colab-df-convert:hover {\n",
              "      background-color: #434B5C;\n",
              "      box-shadow: 0px 1px 3px 1px rgba(0, 0, 0, 0.15);\n",
              "      filter: drop-shadow(0px 1px 2px rgba(0, 0, 0, 0.3));\n",
              "      fill: #FFFFFF;\n",
              "    }\n",
              "  </style>\n",
              "\n",
              "      <script>\n",
              "        const buttonEl =\n",
              "          document.querySelector('#df-a9656d11-c33f-4189-ac06-b5ef67de2f60 button.colab-df-convert');\n",
              "        buttonEl.style.display =\n",
              "          google.colab.kernel.accessAllowed ? 'block' : 'none';\n",
              "\n",
              "        async function convertToInteractive(key) {\n",
              "          const element = document.querySelector('#df-a9656d11-c33f-4189-ac06-b5ef67de2f60');\n",
              "          const dataTable =\n",
              "            await google.colab.kernel.invokeFunction('convertToInteractive',\n",
              "                                                     [key], {});\n",
              "          if (!dataTable) return;\n",
              "\n",
              "          const docLinkHtml = 'Like what you see? Visit the ' +\n",
              "            '<a target=\"_blank\" href=https://colab.research.google.com/notebooks/data_table.ipynb>data table notebook</a>'\n",
              "            + ' to learn more about interactive tables.';\n",
              "          element.innerHTML = '';\n",
              "          dataTable['output_type'] = 'display_data';\n",
              "          await google.colab.output.renderOutput(dataTable, element);\n",
              "          const docLink = document.createElement('div');\n",
              "          docLink.innerHTML = docLinkHtml;\n",
              "          element.appendChild(docLink);\n",
              "        }\n",
              "      </script>\n",
              "    </div>\n",
              "  </div>\n",
              "  "
            ]
          },
          "metadata": {},
          "execution_count": 55
        }
      ]
    },
    {
      "cell_type": "code",
      "source": [
        "print(classification_report(testing['Stability'].values, testing['Pred_Stability'].values, zero_division=1))"
      ],
      "metadata": {
        "colab": {
          "base_uri": "https://localhost:8080/"
        },
        "id": "d1blFMJyTrXC",
        "outputId": "f35ba6f9-57fc-4347-e9fb-d105a53fbabf"
      },
      "execution_count": 56,
      "outputs": [
        {
          "output_type": "stream",
          "name": "stdout",
          "text": [
            "              precision    recall  f1-score   support\n",
            "\n",
            "           0       0.76      1.00      0.87        26\n",
            "           1       1.00      0.81      0.89        42\n",
            "\n",
            "    accuracy                           0.88        68\n",
            "   macro avg       0.88      0.90      0.88        68\n",
            "weighted avg       0.91      0.88      0.88        68\n",
            "\n"
          ]
        }
      ]
    },
    {
      "cell_type": "code",
      "source": [
        "stability_list = list(df['Stability'].unique())"
      ],
      "metadata": {
        "id": "LYYwtmBNriLR"
      },
      "execution_count": 57,
      "outputs": []
    },
    {
      "cell_type": "code",
      "source": [
        "fig, ax = plt.subplots(figsize=(8,6))\n",
        "matrix = ConfusionMatrixDisplay.from_predictions(testing['Stability'].values, testing['Pred_Stability'].values, display_labels=stability_list, cmap='Blues', ax=ax)\n",
        "plt.xticks(rotation=90)\n",
        "plt.show()"
      ],
      "metadata": {
        "colab": {
          "base_uri": "https://localhost:8080/",
          "height": 407
        },
        "id": "v0KGsm43q7B1",
        "outputId": "992cdbbb-58eb-41db-abf0-921020326709"
      },
      "execution_count": 59,
      "outputs": [
        {
          "output_type": "display_data",
          "data": {
            "text/plain": [
              "<Figure size 576x432 with 2 Axes>"
            ],
            "image/png": "[encoded data removed]"
          },
          "metadata": {
            "needs_background": "light"
          }
        }
      ]
    }
  ]
}